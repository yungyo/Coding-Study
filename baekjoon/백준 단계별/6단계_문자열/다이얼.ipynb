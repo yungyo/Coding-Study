{
 "cells": [
  {
   "cell_type": "markdown",
   "id": "e9f85d79",
   "metadata": {},
   "source": [
    "다이얼\n",
    "\n",
    "https://www.acmicpc.net/problem/5622"
   ]
  },
  {
   "cell_type": "code",
   "execution_count": 4,
   "id": "4172931f",
   "metadata": {},
   "outputs": [
    {
     "name": "stdout",
     "output_type": "stream",
     "text": [
      "wa\n"
     ]
    }
   ],
   "source": [
    "word = input().upper()"
   ]
  },
  {
   "cell_type": "code",
   "execution_count": 5,
   "id": "23b38050",
   "metadata": {},
   "outputs": [
    {
     "name": "stdout",
     "output_type": "stream",
     "text": [
      "13\n"
     ]
    }
   ],
   "source": [
    "time = 0\n",
    "\n",
    "for i in word:\n",
    "    if i in ['A','B','C'] : time+=3\n",
    "    if i in ['D','E','F'] : time+=4\n",
    "    if i in ['G','H','I'] : time+=5\n",
    "    if i in ['J','K','L'] : time+=6\n",
    "    if i in ['M','N','O'] : time+=7\n",
    "    if i in ['P','Q','R','S'] : time+=8\n",
    "    if i in ['T','U','V'] : time+=9\n",
    "    if i in ['W','X','Y','Z'] : time+=10\n",
    "print(time)"
   ]
  },
  {
   "cell_type": "code",
   "execution_count": 8,
   "id": "28c295a3",
   "metadata": {},
   "outputs": [
    {
     "name": "stdout",
     "output_type": "stream",
     "text": [
      "13\n"
     ]
    }
   ],
   "source": [
    "# 다른 답\n",
    "\n",
    "num = ['ABC','DEF','GHI','JKL','MNO','PQRS','TUV','WXYZ']\n",
    "\n",
    "time = 0\n",
    "for i in range(len(word)):\n",
    "    for j in range(len(num)):\n",
    "        if (word[i] in num[j]) == True :\n",
    "            time += (j+3)\n",
    "print(time)"
   ]
  },
  {
   "cell_type": "code",
   "execution_count": null,
   "id": "627ba531",
   "metadata": {},
   "outputs": [],
   "source": []
  }
 ],
 "metadata": {
  "kernelspec": {
   "display_name": "Python 3",
   "language": "python",
   "name": "python3"
  },
  "language_info": {
   "codemirror_mode": {
    "name": "ipython",
    "version": 3
   },
   "file_extension": ".py",
   "mimetype": "text/x-python",
   "name": "python",
   "nbconvert_exporter": "python",
   "pygments_lexer": "ipython3",
   "version": "3.8.8"
  }
 },
 "nbformat": 4,
 "nbformat_minor": 5
}
