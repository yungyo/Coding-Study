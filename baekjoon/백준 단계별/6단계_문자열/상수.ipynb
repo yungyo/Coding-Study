{
 "cells": [
  {
   "cell_type": "markdown",
   "id": "6a820fdd",
   "metadata": {},
   "source": [
    "상수\n",
    "\n",
    "https://www.acmicpc.net/problem/2908"
   ]
  },
  {
   "cell_type": "markdown",
   "id": "ab21ebbe",
   "metadata": {},
   "source": [
    "파이썬 문자열 뒤집기\n",
    "- [::-1]\n",
    "- reverse()\n",
    "- 반복문"
   ]
  },
  {
   "cell_type": "code",
   "execution_count": 9,
   "id": "3d93f754",
   "metadata": {},
   "outputs": [
    {
     "name": "stdout",
     "output_type": "stream",
     "text": [
      "221 231\n"
     ]
    }
   ],
   "source": [
    "A,B = input().split()"
   ]
  },
  {
   "cell_type": "code",
   "execution_count": 11,
   "id": "1ff84674",
   "metadata": {},
   "outputs": [
    {
     "data": {
      "text/plain": [
       "('122', '132')"
      ]
     },
     "execution_count": 11,
     "metadata": {},
     "output_type": "execute_result"
    }
   ],
   "source": [
    "A[::-1],B[::-1]"
   ]
  },
  {
   "cell_type": "code",
   "execution_count": 10,
   "id": "26709edf",
   "metadata": {},
   "outputs": [
    {
     "name": "stdout",
     "output_type": "stream",
     "text": [
      "132\n"
     ]
    }
   ],
   "source": [
    "print(max(A[::-1],B[::-1]))"
   ]
  },
  {
   "cell_type": "code",
   "execution_count": null,
   "id": "92bcff98",
   "metadata": {},
   "outputs": [],
   "source": []
  }
 ],
 "metadata": {
  "kernelspec": {
   "display_name": "Python 3",
   "language": "python",
   "name": "python3"
  },
  "language_info": {
   "codemirror_mode": {
    "name": "ipython",
    "version": 3
   },
   "file_extension": ".py",
   "mimetype": "text/x-python",
   "name": "python",
   "nbconvert_exporter": "python",
   "pygments_lexer": "ipython3",
   "version": "3.8.8"
  }
 },
 "nbformat": 4,
 "nbformat_minor": 5
}
