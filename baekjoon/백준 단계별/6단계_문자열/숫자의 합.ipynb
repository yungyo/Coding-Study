{
 "cells": [
  {
   "cell_type": "markdown",
   "id": "7cf3c244",
   "metadata": {},
   "source": [
    "숫자의 합\n",
    "\n",
    "https://www.acmicpc.net/problem/11720"
   ]
  },
  {
   "cell_type": "code",
   "execution_count": 10,
   "id": "57d74407",
   "metadata": {},
   "outputs": [
    {
     "name": "stdout",
     "output_type": "stream",
     "text": [
      "5\n",
      "54321\n",
      "15\n"
     ]
    }
   ],
   "source": [
    "n = int(input())\n",
    "N = map(int,input())\n",
    "print(sum(N))"
   ]
  },
  {
   "cell_type": "markdown",
   "id": "c6fbd1aa",
   "metadata": {},
   "source": [
    "input() 을 활용하는 예제"
   ]
  },
  {
   "cell_type": "code",
   "execution_count": null,
   "id": "07ef7cd9",
   "metadata": {},
   "outputs": [],
   "source": []
  }
 ],
 "metadata": {
  "kernelspec": {
   "display_name": "Python 3",
   "language": "python",
   "name": "python3"
  },
  "language_info": {
   "codemirror_mode": {
    "name": "ipython",
    "version": 3
   },
   "file_extension": ".py",
   "mimetype": "text/x-python",
   "name": "python",
   "nbconvert_exporter": "python",
   "pygments_lexer": "ipython3",
   "version": "3.8.8"
  }
 },
 "nbformat": 4,
 "nbformat_minor": 5
}
