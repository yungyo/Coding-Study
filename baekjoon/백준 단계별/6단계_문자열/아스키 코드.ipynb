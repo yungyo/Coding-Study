{
 "cells": [
  {
   "cell_type": "markdown",
   "id": "21c52aa5",
   "metadata": {},
   "source": [
    "아스키 코드\n",
    "\n",
    "https://www.acmicpc.net/problem/11654"
   ]
  },
  {
   "cell_type": "code",
   "execution_count": 4,
   "id": "2fc4f952",
   "metadata": {},
   "outputs": [
    {
     "name": "stdout",
     "output_type": "stream",
     "text": [
      "0\n",
      "48\n"
     ]
    }
   ],
   "source": [
    "a = input()\n",
    "print(ord(a))"
   ]
  },
  {
   "cell_type": "markdown",
   "id": "7251cc27",
   "metadata": {},
   "source": [
    "파이썬에서 아스키코드로 변환하려면 ord() 쓰면 된다."
   ]
  }
 ],
 "metadata": {
  "kernelspec": {
   "display_name": "Python 3",
   "language": "python",
   "name": "python3"
  },
  "language_info": {
   "codemirror_mode": {
    "name": "ipython",
    "version": 3
   },
   "file_extension": ".py",
   "mimetype": "text/x-python",
   "name": "python",
   "nbconvert_exporter": "python",
   "pygments_lexer": "ipython3",
   "version": "3.8.8"
  }
 },
 "nbformat": 4,
 "nbformat_minor": 5
}
