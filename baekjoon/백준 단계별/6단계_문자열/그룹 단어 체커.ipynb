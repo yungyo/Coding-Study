{
 "cells": [
  {
   "cell_type": "markdown",
   "id": "5faba556",
   "metadata": {},
   "source": [
    "### 그룹 단어 체커\n",
    "\n",
    "- 문제 : https://www.acmicpc.net/problem/1316\n",
    "- Notion : https://glen-fridge-91c.notion.site/b24b55b0ab8a4241ad791ab3de3aaa49"
   ]
  },
  {
   "cell_type": "code",
   "execution_count": 1,
   "id": "618264a2",
   "metadata": {},
   "outputs": [
    {
     "name": "stdout",
     "output_type": "stream",
     "text": [
      "3\n"
     ]
    }
   ],
   "source": [
    "N = int(input())"
   ]
  },
  {
   "cell_type": "markdown",
   "id": "579d2982",
   "metadata": {},
   "source": [
    "그룹단어는 연속되다가 떨어져서 나타나면 안됨\n",
    "\n",
    "aabbbccb : 그룹단어 아님\n",
    "\n",
    "그렇다면...\n",
    "- 일단 단어를 불러온다 word=input()\n",
    "- 불러온 단어를 하나씩 읽는데, 직전 수와 같으면서도 이후 수에 안 나오면 그룹단어"
   ]
  },
  {
   "cell_type": "code",
   "execution_count": 11,
   "id": "ae9e1aea",
   "metadata": {},
   "outputs": [
    {
     "name": "stdout",
     "output_type": "stream",
     "text": [
      "aabbcc\n",
      "ababab\n",
      "aaaaa\n",
      "2\n"
     ]
    }
   ],
   "source": [
    "count = N #총 단어 수\n",
    "for i in range(N):\n",
    "    word = input()\n",
    "    for j in range(len(word)-1):\n",
    "        if word[j]==word[j+1] : pass #만약 앞글자와 뒷글자가 같으면 넘어간다\n",
    "        elif word[j] in word[j+1:] : #만약 앞글자가 뒷글자 이후에 있으면\n",
    "            count=count-1 #그룹단어가 아니므로 뺀다\n",
    "            break #그룹단어가 아니므로 더이상 살펴보지 않는다\n",
    "print(count)"
   ]
  },
  {
   "cell_type": "code",
   "execution_count": null,
   "id": "8a6e8489",
   "metadata": {},
   "outputs": [],
   "source": []
  }
 ],
 "metadata": {
  "kernelspec": {
   "display_name": "Python 3",
   "language": "python",
   "name": "python3"
  },
  "language_info": {
   "codemirror_mode": {
    "name": "ipython",
    "version": 3
   },
   "file_extension": ".py",
   "mimetype": "text/x-python",
   "name": "python",
   "nbconvert_exporter": "python",
   "pygments_lexer": "ipython3",
   "version": "3.8.8"
  }
 },
 "nbformat": 4,
 "nbformat_minor": 5
}
