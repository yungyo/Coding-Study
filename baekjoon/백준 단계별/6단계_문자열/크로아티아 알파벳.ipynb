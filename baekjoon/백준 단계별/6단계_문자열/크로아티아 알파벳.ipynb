{
 "cells": [
  {
   "cell_type": "markdown",
   "id": "520d5bc8",
   "metadata": {},
   "source": [
    "크로아티아 알파벳\n",
    "\n",
    "https://www.acmicpc.net/problem/2941"
   ]
  },
  {
   "cell_type": "code",
   "execution_count": 18,
   "id": "c3befe77",
   "metadata": {},
   "outputs": [
    {
     "name": "stdout",
     "output_type": "stream",
     "text": [
      "ljes=njak\n"
     ]
    }
   ],
   "source": [
    "word = input()"
   ]
  },
  {
   "cell_type": "code",
   "execution_count": 19,
   "id": "91576a2f",
   "metadata": {},
   "outputs": [
    {
     "name": "stdout",
     "output_type": "stream",
     "text": [
      "6\n"
     ]
    }
   ],
   "source": [
    "change = ['c=', 'c-', 'dz=','d-', 'lj','nj', 's=', 'z=']\n",
    "\n",
    "for i in change:\n",
    "    if i in word:\n",
    "        word = word.replace(i,\"*\") # 문자열.replace(a,b) : a값을 b로 변경\n",
    "print(len(word))"
   ]
  },
  {
   "cell_type": "code",
   "execution_count": null,
   "id": "b989a7dc",
   "metadata": {},
   "outputs": [],
   "source": []
  }
 ],
 "metadata": {
  "kernelspec": {
   "display_name": "Python 3",
   "language": "python",
   "name": "python3"
  },
  "language_info": {
   "codemirror_mode": {
    "name": "ipython",
    "version": 3
   },
   "file_extension": ".py",
   "mimetype": "text/x-python",
   "name": "python",
   "nbconvert_exporter": "python",
   "pygments_lexer": "ipython3",
   "version": "3.8.8"
  }
 },
 "nbformat": 4,
 "nbformat_minor": 5
}
