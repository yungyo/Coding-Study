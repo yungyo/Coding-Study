{
 "cells": [
  {
   "cell_type": "markdown",
   "id": "e0aac2c0",
   "metadata": {},
   "source": [
    "단어 공부\n",
    "\n",
    "https://www.acmicpc.net/problem/1157"
   ]
  },
  {
   "cell_type": "code",
   "execution_count": null,
   "id": "55d1477d",
   "metadata": {},
   "outputs": [],
   "source": []
  },
  {
   "cell_type": "code",
   "execution_count": null,
   "id": "a1ec4977",
   "metadata": {},
   "outputs": [],
   "source": []
  }
 ],
 "metadata": {
  "kernelspec": {
   "display_name": "Python 3",
   "language": "python",
   "name": "python3"
  },
  "language_info": {
   "codemirror_mode": {
    "name": "ipython",
    "version": 3
   },
   "file_extension": ".py",
   "mimetype": "text/x-python",
   "name": "python",
   "nbconvert_exporter": "python",
   "pygments_lexer": "ipython3",
   "version": "3.8.8"
  }
 },
 "nbformat": 4,
 "nbformat_minor": 5
}
