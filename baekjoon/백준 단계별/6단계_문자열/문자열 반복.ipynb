{
 "cells": [
  {
   "cell_type": "markdown",
   "id": "fcd2fcf5",
   "metadata": {},
   "source": [
    "문자열 반복\n",
    "\n",
    "https://www.acmicpc.net/problem/2675"
   ]
  },
  {
   "cell_type": "code",
   "execution_count": 27,
   "id": "942edbb8",
   "metadata": {},
   "outputs": [
    {
     "name": "stdout",
     "output_type": "stream",
     "text": [
      "2\n",
      "3 ABC\n",
      "AAABBBCCC\n",
      "5 /HTP\n",
      "/////HHHHHTTTTTPPPPP\n"
     ]
    }
   ],
   "source": [
    "T = int(input())\n",
    "\n",
    "for i in range(T) :\n",
    "    R,S = input().split()\n",
    "    \n",
    "    for j in S :\n",
    "        print(j*int(R),end='') #end='' : 옆으로 붙임\n",
    "    print() #줄넘김"
   ]
  },
  {
   "cell_type": "code",
   "execution_count": null,
   "id": "b868f6bb",
   "metadata": {},
   "outputs": [],
   "source": []
  }
 ],
 "metadata": {
  "kernelspec": {
   "display_name": "Python 3",
   "language": "python",
   "name": "python3"
  },
  "language_info": {
   "codemirror_mode": {
    "name": "ipython",
    "version": 3
   },
   "file_extension": ".py",
   "mimetype": "text/x-python",
   "name": "python",
   "nbconvert_exporter": "python",
   "pygments_lexer": "ipython3",
   "version": "3.8.8"
  }
 },
 "nbformat": 4,
 "nbformat_minor": 5
}
