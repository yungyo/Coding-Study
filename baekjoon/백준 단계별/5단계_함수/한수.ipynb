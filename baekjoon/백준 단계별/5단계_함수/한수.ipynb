{
 "cells": [
  {
   "cell_type": "markdown",
   "id": "3541a222",
   "metadata": {},
   "source": [
    "한수\n",
    "\n",
    "https://www.acmicpc.net/problem/1065"
   ]
  },
  {
   "cell_type": "markdown",
   "id": "c8a71ceb",
   "metadata": {},
   "source": [
    "한수 \n",
    "\n",
    "123의 숫자가 있다고 하면 자릿수대로 이 숫자들을 하나씩 분리\n",
    "\n",
    "1,2,3\n",
    "\n",
    "이 숫자들은 등차수열을 이르므로 123은 한수이다\n",
    "\n",
    "주의할 것은 1부터 99까지도 한수에 포함된다"
   ]
  },
  {
   "cell_type": "code",
   "execution_count": 1,
   "id": "e426fe20",
   "metadata": {},
   "outputs": [
    {
     "name": "stdout",
     "output_type": "stream",
     "text": [
      "110\n"
     ]
    }
   ],
   "source": [
    "N = int(input())"
   ]
  },
  {
   "cell_type": "code",
   "execution_count": 4,
   "id": "cad9324d",
   "metadata": {},
   "outputs": [
    {
     "name": "stdout",
     "output_type": "stream",
     "text": [
      "99\n"
     ]
    }
   ],
   "source": [
    "hansu = 0\n",
    "for i in range(1,N+1):\n",
    "    \n",
    "    if i<=99 : hansu+=1 # 1~99 는 한수\n",
    "    \n",
    "    else :\n",
    "        num = list(map(int,str(i))) \n",
    "        #숫자를 문자열로 만들고 쪼개서 리스트 형식으로 만든다\n",
    "        #map(int,list) : 리스트의 모든 요소를 int 를 사용해 변환\n",
    "        \n",
    "        if num[0]-num[1] == num[1]-num[2] : hansu+=1\n",
    "        # 등차수열이면 한수+1\n",
    "\n",
    "print(hansu)"
   ]
  },
  {
   "cell_type": "code",
   "execution_count": null,
   "id": "acde9fba",
   "metadata": {},
   "outputs": [],
   "source": []
  }
 ],
 "metadata": {
  "kernelspec": {
   "display_name": "Python 3",
   "language": "python",
   "name": "python3"
  },
  "language_info": {
   "codemirror_mode": {
    "name": "ipython",
    "version": 3
   },
   "file_extension": ".py",
   "mimetype": "text/x-python",
   "name": "python",
   "nbconvert_exporter": "python",
   "pygments_lexer": "ipython3",
   "version": "3.8.8"
  }
 },
 "nbformat": 4,
 "nbformat_minor": 5
}
