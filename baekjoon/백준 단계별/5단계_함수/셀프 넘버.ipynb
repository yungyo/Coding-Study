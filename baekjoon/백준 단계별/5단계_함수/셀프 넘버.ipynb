{
 "cells": [
  {
   "cell_type": "markdown",
   "id": "3f07f947",
   "metadata": {},
   "source": [
    "셀프 넘버\n",
    "\n",
    "https://www.acmicpc.net/problem/4673"
   ]
  },
  {
   "cell_type": "markdown",
   "id": "29400f2f",
   "metadata": {},
   "source": [
    "set 을 활용하는 문제"
   ]
  },
  {
   "cell_type": "code",
   "execution_count": null,
   "id": "b9c58f68",
   "metadata": {},
   "outputs": [],
   "source": []
  }
 ],
 "metadata": {
  "kernelspec": {
   "display_name": "Python 3",
   "language": "python",
   "name": "python3"
  },
  "language_info": {
   "codemirror_mode": {
    "name": "ipython",
    "version": 3
   },
   "file_extension": ".py",
   "mimetype": "text/x-python",
   "name": "python",
   "nbconvert_exporter": "python",
   "pygments_lexer": "ipython3",
   "version": "3.8.8"
  }
 },
 "nbformat": 4,
 "nbformat_minor": 5
}
