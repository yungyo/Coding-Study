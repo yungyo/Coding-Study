{
 "cells": [
  {
   "cell_type": "markdown",
   "id": "707ac4aa",
   "metadata": {},
   "source": [
    "시험 성적\n",
    "\n",
    "https://www.acmicpc.net/problem/9498"
   ]
  },
  {
   "cell_type": "code",
   "execution_count": 3,
   "id": "63760549",
   "metadata": {},
   "outputs": [
    {
     "name": "stdout",
     "output_type": "stream",
     "text": [
      "80\n",
      "B\n"
     ]
    }
   ],
   "source": [
    "my = int(input())\n",
    "\n",
    "if 90<=my<=100 :\n",
    "    print(\"A\")\n",
    "elif 80<=my<90 :\n",
    "    print(\"B\")\n",
    "elif 70<=my<80 :\n",
    "    print(\"C\")\n",
    "elif 60<=my<70 :\n",
    "    print(\"D\")\n",
    "else : print(\"F\")"
   ]
  },
  {
   "cell_type": "code",
   "execution_count": null,
   "id": "525a36a4",
   "metadata": {},
   "outputs": [],
   "source": []
  }
 ],
 "metadata": {
  "kernelspec": {
   "display_name": "Python 3",
   "language": "python",
   "name": "python3"
  },
  "language_info": {
   "codemirror_mode": {
    "name": "ipython",
    "version": 3
   },
   "file_extension": ".py",
   "mimetype": "text/x-python",
   "name": "python",
   "nbconvert_exporter": "python",
   "pygments_lexer": "ipython3",
   "version": "3.8.8"
  }
 },
 "nbformat": 4,
 "nbformat_minor": 5
}
