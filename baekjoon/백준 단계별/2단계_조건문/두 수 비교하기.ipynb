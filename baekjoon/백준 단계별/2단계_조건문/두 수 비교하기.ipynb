{
 "cells": [
  {
   "cell_type": "markdown",
   "id": "72bb1dc7",
   "metadata": {},
   "source": [
    "두 수 비교하기\n",
    "\n",
    "https://www.acmicpc.net/problem/1330"
   ]
  },
  {
   "cell_type": "code",
   "execution_count": 6,
   "id": "d9359439",
   "metadata": {},
   "outputs": [
    {
     "name": "stdout",
     "output_type": "stream",
     "text": [
      "5 5\n",
      "==\n"
     ]
    }
   ],
   "source": [
    "A,B = input().split()\n",
    "\n",
    "if int(A)>int(B) :\n",
    "    print(\">\")\n",
    "elif int(A)<int(B) :\n",
    "    print(\"<\")\n",
    "elif int(A)==int(B) :\n",
    "    print(\"==\")"
   ]
  },
  {
   "cell_type": "code",
   "execution_count": null,
   "id": "33d65c0a",
   "metadata": {},
   "outputs": [],
   "source": []
  }
 ],
 "metadata": {
  "kernelspec": {
   "display_name": "Python 3",
   "language": "python",
   "name": "python3"
  },
  "language_info": {
   "codemirror_mode": {
    "name": "ipython",
    "version": 3
   },
   "file_extension": ".py",
   "mimetype": "text/x-python",
   "name": "python",
   "nbconvert_exporter": "python",
   "pygments_lexer": "ipython3",
   "version": "3.8.8"
  }
 },
 "nbformat": 4,
 "nbformat_minor": 5
}
