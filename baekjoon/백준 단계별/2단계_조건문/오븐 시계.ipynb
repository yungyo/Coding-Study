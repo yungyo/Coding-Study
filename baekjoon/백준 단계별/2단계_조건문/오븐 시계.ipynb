{
 "cells": [
  {
   "cell_type": "markdown",
   "id": "11f237e0",
   "metadata": {},
   "source": [
    "오븐 시계\n",
    "\n",
    "https://www.acmicpc.net/problem/2525"
   ]
  },
  {
   "cell_type": "code",
   "execution_count": 30,
   "id": "899017fb",
   "metadata": {},
   "outputs": [
    {
     "name": "stdout",
     "output_type": "stream",
     "text": [
      "23 59\n",
      "1000\n"
     ]
    }
   ],
   "source": [
    "A,B = map(int,input().split())\n",
    "C = int(input())"
   ]
  },
  {
   "cell_type": "code",
   "execution_count": 32,
   "id": "c74cfbd6",
   "metadata": {},
   "outputs": [
    {
     "name": "stdout",
     "output_type": "stream",
     "text": [
      "16 39\n"
     ]
    }
   ],
   "source": [
    "hour = (A+((B+C)//60))%24 # 24시로 나눈 나머지여야 한다! (24시 기준)\n",
    "minute = (B+C)%60\n",
    "\n",
    "print(hour,minute)"
   ]
  },
  {
   "cell_type": "markdown",
   "id": "f56973e7",
   "metadata": {},
   "source": [
    "입력이 17 40 80 일 경우,\n",
    "\n",
    "B+C = 120\n",
    "(B+C)//60 = 2\n",
    "hour = A+2\n",
    "minute = (B+C)%60"
   ]
  },
  {
   "cell_type": "code",
   "execution_count": null,
   "id": "db4619cc",
   "metadata": {},
   "outputs": [],
   "source": []
  }
 ],
 "metadata": {
  "kernelspec": {
   "display_name": "Python 3",
   "language": "python",
   "name": "python3"
  },
  "language_info": {
   "codemirror_mode": {
    "name": "ipython",
    "version": 3
   },
   "file_extension": ".py",
   "mimetype": "text/x-python",
   "name": "python",
   "nbconvert_exporter": "python",
   "pygments_lexer": "ipython3",
   "version": "3.8.8"
  }
 },
 "nbformat": 4,
 "nbformat_minor": 5
}
