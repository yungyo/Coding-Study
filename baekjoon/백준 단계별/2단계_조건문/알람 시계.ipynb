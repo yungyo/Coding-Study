{
 "cells": [
  {
   "cell_type": "markdown",
   "id": "9656ad1d",
   "metadata": {},
   "source": [
    "알람 시계\n",
    "\n",
    "https://www.acmicpc.net/problem/2884"
   ]
  },
  {
   "cell_type": "code",
   "execution_count": 32,
   "id": "cf16e518",
   "metadata": {},
   "outputs": [
    {
     "name": "stdout",
     "output_type": "stream",
     "text": [
      "12 45\n"
     ]
    }
   ],
   "source": [
    "H,M = input().split()\n",
    "\n",
    "h=int(H)\n",
    "m=int(M)"
   ]
  },
  {
   "cell_type": "code",
   "execution_count": 33,
   "id": "4397cb45",
   "metadata": {},
   "outputs": [
    {
     "name": "stdout",
     "output_type": "stream",
     "text": [
      "12 0\n"
     ]
    }
   ],
   "source": [
    "if h>0 :\n",
    "    if m>44 :\n",
    "        print(h,(m-45))\n",
    "    else :\n",
    "        print(h-1,(m+15))\n",
    "elif h==0 :\n",
    "    if m>44 :\n",
    "        print(h,(m-45))\n",
    "    else :\n",
    "        print(23,(m+15))"
   ]
  },
  {
   "cell_type": "code",
   "execution_count": null,
   "id": "b4f931a5",
   "metadata": {},
   "outputs": [],
   "source": []
  },
  {
   "cell_type": "markdown",
   "id": "09784537",
   "metadata": {},
   "source": [
    "다른 방법"
   ]
  },
  {
   "cell_type": "code",
   "execution_count": 34,
   "id": "fa9ea8bd",
   "metadata": {},
   "outputs": [
    {
     "name": "stdout",
     "output_type": "stream",
     "text": [
      "12 45\n",
      "12 0\n"
     ]
    }
   ],
   "source": [
    "H,M = map(int,input().split())\n",
    "# map 함수 사용\n",
    "\n",
    "if M>44 :\n",
    "    print(H,M-45)\n",
    "elif M<45 & H>0 :\n",
    "    print(H-1,M+15)\n",
    "else :\n",
    "    print(23,M+15)"
   ]
  },
  {
   "cell_type": "code",
   "execution_count": null,
   "id": "029e382b",
   "metadata": {},
   "outputs": [],
   "source": []
  }
 ],
 "metadata": {
  "kernelspec": {
   "display_name": "Python 3",
   "language": "python",
   "name": "python3"
  },
  "language_info": {
   "codemirror_mode": {
    "name": "ipython",
    "version": 3
   },
   "file_extension": ".py",
   "mimetype": "text/x-python",
   "name": "python",
   "nbconvert_exporter": "python",
   "pygments_lexer": "ipython3",
   "version": "3.8.8"
  }
 },
 "nbformat": 4,
 "nbformat_minor": 5
}
