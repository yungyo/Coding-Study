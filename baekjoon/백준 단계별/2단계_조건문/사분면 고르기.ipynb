{
 "cells": [
  {
   "cell_type": "markdown",
   "id": "5e4384d9",
   "metadata": {},
   "source": [
    "사분면 고르기\n",
    "\n",
    "https://www.acmicpc.net/problem/14681"
   ]
  },
  {
   "cell_type": "code",
   "execution_count": 8,
   "id": "054974ed",
   "metadata": {},
   "outputs": [
    {
     "name": "stdout",
     "output_type": "stream",
     "text": [
      "9\n",
      "-13\n"
     ]
    }
   ],
   "source": [
    "x = int(input())\n",
    "y = int(input())"
   ]
  },
  {
   "cell_type": "code",
   "execution_count": 9,
   "id": "ee051b05",
   "metadata": {},
   "outputs": [
    {
     "name": "stdout",
     "output_type": "stream",
     "text": [
      "4\n"
     ]
    }
   ],
   "source": [
    "if (x>0)&(y>0) :\n",
    "    print(1)\n",
    "elif (x<0)&(y>0) :\n",
    "    print(2)\n",
    "elif (x<0)&(y<0) :\n",
    "    print(3)\n",
    "elif (x>0)&(y<0) :\n",
    "    print(4)"
   ]
  },
  {
   "cell_type": "code",
   "execution_count": null,
   "id": "fae30c82",
   "metadata": {},
   "outputs": [],
   "source": []
  }
 ],
 "metadata": {
  "kernelspec": {
   "display_name": "Python 3",
   "language": "python",
   "name": "python3"
  },
  "language_info": {
   "codemirror_mode": {
    "name": "ipython",
    "version": 3
   },
   "file_extension": ".py",
   "mimetype": "text/x-python",
   "name": "python",
   "nbconvert_exporter": "python",
   "pygments_lexer": "ipython3",
   "version": "3.8.8"
  }
 },
 "nbformat": 4,
 "nbformat_minor": 5
}
