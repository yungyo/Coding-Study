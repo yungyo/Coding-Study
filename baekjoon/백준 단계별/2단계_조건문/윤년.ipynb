{
 "cells": [
  {
   "cell_type": "markdown",
   "id": "7070ea8a",
   "metadata": {},
   "source": [
    "윤년\n",
    "\n",
    "https://www.acmicpc.net/problem/2753"
   ]
  },
  {
   "cell_type": "code",
   "execution_count": 5,
   "id": "99f58f55",
   "metadata": {},
   "outputs": [
    {
     "name": "stdout",
     "output_type": "stream",
     "text": [
      "1999\n",
      "0\n"
     ]
    }
   ],
   "source": [
    "year = int(input())\n",
    "\n",
    "#윤년은 연도가 4의 배수이면서, 100의 배수가 아닐 때 또는 400의 배수일 때이다.\n",
    "if (year%4==0)&(year%100!=0)|(year%400==0) :\n",
    "    print(1)\n",
    "else : print(0)"
   ]
  },
  {
   "cell_type": "code",
   "execution_count": null,
   "id": "93f136a4",
   "metadata": {},
   "outputs": [],
   "source": []
  }
 ],
 "metadata": {
  "kernelspec": {
   "display_name": "Python 3",
   "language": "python",
   "name": "python3"
  },
  "language_info": {
   "codemirror_mode": {
    "name": "ipython",
    "version": 3
   },
   "file_extension": ".py",
   "mimetype": "text/x-python",
   "name": "python",
   "nbconvert_exporter": "python",
   "pygments_lexer": "ipython3",
   "version": "3.8.8"
  }
 },
 "nbformat": 4,
 "nbformat_minor": 5
}
