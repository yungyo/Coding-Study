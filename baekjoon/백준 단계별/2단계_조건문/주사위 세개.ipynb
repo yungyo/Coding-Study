{
 "cells": [
  {
   "cell_type": "markdown",
   "id": "8f28a501",
   "metadata": {},
   "source": [
    "주사위 세개\n",
    "\n",
    "https://www.acmicpc.net/problem/2480"
   ]
  },
  {
   "cell_type": "code",
   "execution_count": 19,
   "id": "2a83cb79",
   "metadata": {},
   "outputs": [
    {
     "name": "stdout",
     "output_type": "stream",
     "text": [
      "6 2 5\n"
     ]
    }
   ],
   "source": [
    "a,b,c = map(int,input().split())"
   ]
  },
  {
   "cell_type": "code",
   "execution_count": 20,
   "id": "eba62f6f",
   "metadata": {},
   "outputs": [
    {
     "name": "stdout",
     "output_type": "stream",
     "text": [
      "600\n"
     ]
    }
   ],
   "source": [
    "if a==b==c : print(10000+a*1000)\n",
    "elif a!=b==c : print(1000+b*100)\n",
    "elif a==b!=c : print(1000+b*100)\n",
    "elif a==c!=b : print(1000+a*100)\n",
    "else : print(max(a,b,c)*100)"
   ]
  },
  {
   "cell_type": "code",
   "execution_count": null,
   "id": "e812e818",
   "metadata": {},
   "outputs": [],
   "source": []
  }
 ],
 "metadata": {
  "kernelspec": {
   "display_name": "Python 3",
   "language": "python",
   "name": "python3"
  },
  "language_info": {
   "codemirror_mode": {
    "name": "ipython",
    "version": 3
   },
   "file_extension": ".py",
   "mimetype": "text/x-python",
   "name": "python",
   "nbconvert_exporter": "python",
   "pygments_lexer": "ipython3",
   "version": "3.8.8"
  }
 },
 "nbformat": 4,
 "nbformat_minor": 5
}
