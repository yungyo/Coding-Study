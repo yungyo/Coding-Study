{
 "cells": [
  {
   "cell_type": "markdown",
   "id": "2e168109",
   "metadata": {},
   "source": [
    "곱셈\n",
    "\n",
    "https://www.acmicpc.net/problem/2588"
   ]
  },
  {
   "cell_type": "code",
   "execution_count": 10,
   "id": "e4ce9aa0",
   "metadata": {},
   "outputs": [
    {
     "name": "stdout",
     "output_type": "stream",
     "text": [
      "472\n",
      "385\n"
     ]
    }
   ],
   "source": [
    "A = int(input())\n",
    "B = input()\n",
    "\n",
    "# 그냥 input() 을 하면 문자열로 출력된다."
   ]
  },
  {
   "cell_type": "code",
   "execution_count": 11,
   "id": "0130e2f0",
   "metadata": {},
   "outputs": [
    {
     "name": "stdout",
     "output_type": "stream",
     "text": [
      "2360\n",
      "3776\n",
      "1416\n",
      "181720\n"
     ]
    }
   ],
   "source": [
    "ans1 = A*int(B[2])\n",
    "ans2 = A*int(B[1])\n",
    "ans3 = A*int(B[0])\n",
    "ans4 = A*int(B)\n",
    "\n",
    "print(ans1, ans2, ans3, ans4, sep=\"\\n\")"
   ]
  },
  {
   "cell_type": "markdown",
   "id": "328557d6",
   "metadata": {},
   "source": [
    "런타임에러를 잘 극복하자!"
   ]
  },
  {
   "cell_type": "code",
   "execution_count": 12,
   "id": "d8cac432",
   "metadata": {},
   "outputs": [
    {
     "name": "stdout",
     "output_type": "stream",
     "text": [
      "472 385\n",
      "2360\n",
      "3776\n",
      "1416\n",
      "181720\n"
     ]
    }
   ],
   "source": [
    "#이 코드는 런타임 에러가 뜬다.\n",
    "\n",
    "A,B = input().split()\n",
    "\n",
    "ans1 = int(A)*int(B[2])\n",
    "ans2 = int(A)*int(B[1])\n",
    "ans3 = int(A)*int(B[0])\n",
    "ans4 = int(A)*int(B)\n",
    "\n",
    "print(ans1, ans2, ans3, ans4, sep=\"\\n\")"
   ]
  },
  {
   "cell_type": "code",
   "execution_count": null,
   "id": "e28e1e51",
   "metadata": {},
   "outputs": [],
   "source": []
  }
 ],
 "metadata": {
  "kernelspec": {
   "display_name": "Python 3",
   "language": "python",
   "name": "python3"
  },
  "language_info": {
   "codemirror_mode": {
    "name": "ipython",
    "version": 3
   },
   "file_extension": ".py",
   "mimetype": "text/x-python",
   "name": "python",
   "nbconvert_exporter": "python",
   "pygments_lexer": "ipython3",
   "version": "3.8.8"
  }
 },
 "nbformat": 4,
 "nbformat_minor": 5
}
