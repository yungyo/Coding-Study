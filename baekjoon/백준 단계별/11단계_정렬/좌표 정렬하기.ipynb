{
 "cells": [
  {
   "cell_type": "markdown",
   "id": "f6f44960",
   "metadata": {},
   "source": [
    "좌표 정렬하기\n",
    "\n",
    "https://www.acmicpc.net/problem/11650"
   ]
  },
  {
   "cell_type": "code",
   "execution_count": 1,
   "id": "7477c365",
   "metadata": {},
   "outputs": [
    {
     "name": "stdout",
     "output_type": "stream",
     "text": [
      "5\n"
     ]
    }
   ],
   "source": [
    "N = int(input())"
   ]
  },
  {
   "cell_type": "code",
   "execution_count": 11,
   "id": "2b7682b9",
   "metadata": {},
   "outputs": [
    {
     "name": "stdout",
     "output_type": "stream",
     "text": [
      "3 4\n",
      "1 1\n",
      "1 -1\n",
      "2 2\n",
      "3 3\n",
      "[(3, 4), (1, 1), (1, -1), (2, 2), (3, 3)]\n"
     ]
    }
   ],
   "source": [
    "new = []\n",
    "for i in range(N) :\n",
    "    x,y = map(int,input().split())\n",
    "    new.append((x,y))\n",
    "print(new)"
   ]
  },
  {
   "cell_type": "code",
   "execution_count": 12,
   "id": "f53be178",
   "metadata": {},
   "outputs": [],
   "source": [
    "array = sorted(new)"
   ]
  },
  {
   "cell_type": "code",
   "execution_count": 15,
   "id": "40dfcc85",
   "metadata": {},
   "outputs": [
    {
     "name": "stdout",
     "output_type": "stream",
     "text": [
      "1 -1\n",
      "1 1\n",
      "2 2\n",
      "3 3\n",
      "3 4\n"
     ]
    }
   ],
   "source": [
    "ans = []\n",
    "for j in range(len(array)):\n",
    "    ans = array[j]\n",
    "    print(ans[0],ans[1])"
   ]
  },
  {
   "cell_type": "code",
   "execution_count": null,
   "id": "dc43ead6",
   "metadata": {},
   "outputs": [],
   "source": []
  }
 ],
 "metadata": {
  "kernelspec": {
   "display_name": "Python 3",
   "language": "python",
   "name": "python3"
  },
  "language_info": {
   "codemirror_mode": {
    "name": "ipython",
    "version": 3
   },
   "file_extension": ".py",
   "mimetype": "text/x-python",
   "name": "python",
   "nbconvert_exporter": "python",
   "pygments_lexer": "ipython3",
   "version": "3.8.8"
  }
 },
 "nbformat": 4,
 "nbformat_minor": 5
}
