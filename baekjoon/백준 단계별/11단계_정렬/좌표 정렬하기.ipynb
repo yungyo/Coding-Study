{
 "cells": [
  {
   "cell_type": "markdown",
   "id": "f6f44960",
   "metadata": {},
   "source": [
    "좌표 정렬하기\n",
    "\n",
    "https://www.acmicpc.net/problem/11650"
   ]
  },
  {
   "cell_type": "code",
   "execution_count": 2,
   "id": "7477c365",
   "metadata": {},
   "outputs": [
    {
     "name": "stdout",
     "output_type": "stream",
     "text": [
      "5\n"
     ]
    }
   ],
   "source": [
    "N = int(input())"
   ]
  },
  {
   "cell_type": "code",
   "execution_count": 3,
   "id": "2b7682b9",
   "metadata": {},
   "outputs": [
    {
     "name": "stdout",
     "output_type": "stream",
     "text": [
      "3 4\n",
      "1 1\n",
      "1 -1\n",
      "2 2\n",
      "3 3\n",
      "[(3, 4), (1, 1), (1, -1), (2, 2), (3, 3)]\n"
     ]
    }
   ],
   "source": [
    "new = []\n",
    "for i in range(N) :\n",
    "    x,y = map(int,input().split())\n",
    "    new.append((x,y)) # () 는 순서 없다. [] 가 순서 있다. 여기서는 x,y이므로 ()가능\n",
    "print(new)"
   ]
  },
  {
   "cell_type": "code",
   "execution_count": 4,
   "id": "f53be178",
   "metadata": {},
   "outputs": [
    {
     "name": "stdout",
     "output_type": "stream",
     "text": [
      "[(1, -1), (1, 1), (2, 2), (3, 3), (3, 4)]\n"
     ]
    }
   ],
   "source": [
    "array = sorted(new)\n",
    "print(array)"
   ]
  },
  {
   "cell_type": "code",
   "execution_count": 5,
   "id": "40dfcc85",
   "metadata": {},
   "outputs": [
    {
     "name": "stdout",
     "output_type": "stream",
     "text": [
      "1 -1\n",
      "1 1\n",
      "2 2\n",
      "3 3\n",
      "3 4\n"
     ]
    }
   ],
   "source": [
    "ans = []\n",
    "for j in range(len(array)):\n",
    "    ans = array[j]\n",
    "    print(ans[0],ans[1])"
   ]
  },
  {
   "cell_type": "code",
   "execution_count": null,
   "id": "dc43ead6",
   "metadata": {},
   "outputs": [],
   "source": []
  },
  {
   "cell_type": "code",
   "execution_count": 6,
   "id": "666d6bd3",
   "metadata": {},
   "outputs": [
    {
     "name": "stdout",
     "output_type": "stream",
     "text": [
      "5\n"
     ]
    }
   ],
   "source": [
    "N = int(input())"
   ]
  },
  {
   "cell_type": "code",
   "execution_count": 8,
   "id": "48b54c8a",
   "metadata": {},
   "outputs": [
    {
     "name": "stdout",
     "output_type": "stream",
     "text": [
      "3 4\n",
      "1 -1\n",
      "1 1\n",
      "2 2\n",
      "3 3\n",
      "[(3, 4), (1, -1), (1, 1), (2, 2), (3, 3)]\n"
     ]
    }
   ],
   "source": [
    "lst = []\n",
    "for i in range(N):\n",
    "    x,y = map(int, input().split())\n",
    "    lst.append((x,y))\n",
    "print(lst)"
   ]
  },
  {
   "cell_type": "code",
   "execution_count": 10,
   "id": "cb704c09",
   "metadata": {},
   "outputs": [
    {
     "name": "stdout",
     "output_type": "stream",
     "text": [
      "[(1, -1), (1, 1), (2, 2), (3, 3), (3, 4)]\n"
     ]
    }
   ],
   "source": [
    "lst.sort()\n",
    "print(lst)"
   ]
  },
  {
   "cell_type": "code",
   "execution_count": 11,
   "id": "2cb64e27",
   "metadata": {},
   "outputs": [
    {
     "name": "stdout",
     "output_type": "stream",
     "text": [
      "(1, -1)\n",
      "(1, 1)\n",
      "(2, 2)\n",
      "(3, 3)\n",
      "(3, 4)\n"
     ]
    }
   ],
   "source": [
    "for j in lst:\n",
    "    print(j)"
   ]
  },
  {
   "cell_type": "markdown",
   "id": "3e09b7bd",
   "metadata": {},
   "source": [
    "좌표 정렬하기 2\n",
    "\n",
    "https://www.acmicpc.net/problem/11651"
   ]
  },
  {
   "cell_type": "code",
   "execution_count": 15,
   "id": "13d2a431",
   "metadata": {},
   "outputs": [
    {
     "name": "stdout",
     "output_type": "stream",
     "text": [
      "5\n"
     ]
    }
   ],
   "source": [
    "n = int(input())"
   ]
  },
  {
   "cell_type": "code",
   "execution_count": 27,
   "id": "d8627fd7",
   "metadata": {},
   "outputs": [
    {
     "name": "stdout",
     "output_type": "stream",
     "text": [
      "0 4\n",
      "1 2\n",
      "1 -1\n",
      "2 2\n",
      "3 3\n",
      "[[4, 0], [2, 1], [-1, 1], [2, 2], [3, 3]]\n"
     ]
    }
   ],
   "source": [
    "a = []\n",
    "for i in range(n):\n",
    "    x1,y1 = map(int,input().split())\n",
    "    a.append([y1,x1]) # [] 가 순서가 정해져있다.\n",
    "print(a)"
   ]
  },
  {
   "cell_type": "code",
   "execution_count": 28,
   "id": "2aef2002",
   "metadata": {},
   "outputs": [
    {
     "name": "stdout",
     "output_type": "stream",
     "text": [
      "[[-1, 1], [2, 1], [2, 2], [3, 3], [4, 0]]\n"
     ]
    }
   ],
   "source": [
    "b = sorted(a) #list 2차원 배열에서 열 기준 정렬\n",
    "print(b)"
   ]
  },
  {
   "cell_type": "code",
   "execution_count": 32,
   "id": "d1d42b0f",
   "metadata": {
    "scrolled": true
   },
   "outputs": [
    {
     "name": "stdout",
     "output_type": "stream",
     "text": [
      "1 -1\n",
      "1 2\n",
      "2 2\n",
      "3 3\n",
      "0 4\n"
     ]
    }
   ],
   "source": [
    "s = []\n",
    "for j in range(len(b)):\n",
    "    s = b[j]\n",
    "    print(s[1],s[0])"
   ]
  },
  {
   "cell_type": "code",
   "execution_count": null,
   "id": "a3a047eb",
   "metadata": {},
   "outputs": [],
   "source": []
  },
  {
   "cell_type": "code",
   "execution_count": 1,
   "id": "b8c16f66",
   "metadata": {},
   "outputs": [
    {
     "name": "stdout",
     "output_type": "stream",
     "text": [
      "5\n"
     ]
    }
   ],
   "source": [
    "N = int(input())"
   ]
  },
  {
   "cell_type": "code",
   "execution_count": 4,
   "id": "7d90178c",
   "metadata": {},
   "outputs": [
    {
     "name": "stdout",
     "output_type": "stream",
     "text": [
      "0 4\n",
      "1 2\n",
      "1 -1\n",
      "2 2\n",
      "3 3\n",
      "[(4, 0), (2, 1), (-1, 1), (2, 2), (3, 3)]\n"
     ]
    }
   ],
   "source": [
    "lst = []\n",
    "for i in range(N):\n",
    "    x,y = map(int,input().split())\n",
    "    lst.append((y,x))\n",
    "print(lst)"
   ]
  },
  {
   "cell_type": "code",
   "execution_count": 5,
   "id": "8f6991c9",
   "metadata": {},
   "outputs": [
    {
     "name": "stdout",
     "output_type": "stream",
     "text": [
      "[(-1, 1), (2, 1), (2, 2), (3, 3), (4, 0)]\n"
     ]
    }
   ],
   "source": [
    "lst.sort()\n",
    "print(lst)"
   ]
  },
  {
   "cell_type": "code",
   "execution_count": 6,
   "id": "89c30c7f",
   "metadata": {},
   "outputs": [
    {
     "name": "stdout",
     "output_type": "stream",
     "text": [
      "1 -1\n",
      "1 2\n",
      "2 2\n",
      "3 3\n",
      "0 4\n"
     ]
    }
   ],
   "source": [
    "for y,x in lst:\n",
    "    print(x,y)"
   ]
  },
  {
   "cell_type": "code",
   "execution_count": null,
   "id": "12924693",
   "metadata": {},
   "outputs": [],
   "source": []
  }
 ],
 "metadata": {
  "kernelspec": {
   "display_name": "Python 3 (ipykernel)",
   "language": "python",
   "name": "python3"
  },
  "language_info": {
   "codemirror_mode": {
    "name": "ipython",
    "version": 3
   },
   "file_extension": ".py",
   "mimetype": "text/x-python",
   "name": "python",
   "nbconvert_exporter": "python",
   "pygments_lexer": "ipython3",
   "version": "3.9.12"
  }
 },
 "nbformat": 4,
 "nbformat_minor": 5
}
