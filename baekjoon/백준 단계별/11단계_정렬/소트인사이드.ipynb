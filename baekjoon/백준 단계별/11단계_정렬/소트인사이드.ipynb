{
 "cells": [
  {
   "cell_type": "markdown",
   "id": "304d2ee0",
   "metadata": {},
   "source": [
    "소트인사이드\n",
    "\n",
    "https://www.acmicpc.net/problem/1427"
   ]
  },
  {
   "cell_type": "code",
   "execution_count": 50,
   "id": "8de5bfae",
   "metadata": {},
   "outputs": [
    {
     "name": "stdout",
     "output_type": "stream",
     "text": [
      "2143\n"
     ]
    }
   ],
   "source": [
    "N = list(input())"
   ]
  },
  {
   "cell_type": "code",
   "execution_count": 51,
   "id": "cb3e7e6e",
   "metadata": {},
   "outputs": [
    {
     "name": "stdout",
     "output_type": "stream",
     "text": [
      "['2', '1', '4', '3']\n"
     ]
    }
   ],
   "source": [
    "print(N)"
   ]
  },
  {
   "cell_type": "code",
   "execution_count": 52,
   "id": "e5554cc8",
   "metadata": {},
   "outputs": [
    {
     "name": "stdout",
     "output_type": "stream",
     "text": [
      "4321"
     ]
    }
   ],
   "source": [
    "new = list(map(int,N))\n",
    "\n",
    "new.sort(reverse=True) # reverse=True 내림차순\n",
    "\n",
    "for i in new:\n",
    "    print(i,end=\"\") # end=\"\" 옆으로 이어서 출력해준다"
   ]
  }
 ],
 "metadata": {
  "kernelspec": {
   "display_name": "Python 3",
   "language": "python",
   "name": "python3"
  },
  "language_info": {
   "codemirror_mode": {
    "name": "ipython",
    "version": 3
   },
   "file_extension": ".py",
   "mimetype": "text/x-python",
   "name": "python",
   "nbconvert_exporter": "python",
   "pygments_lexer": "ipython3",
   "version": "3.8.8"
  }
 },
 "nbformat": 4,
 "nbformat_minor": 5
}
