{
 "cells": [
  {
   "cell_type": "markdown",
   "id": "304d2ee0",
   "metadata": {},
   "source": [
    "소트인사이드\n",
    "\n",
    "https://www.acmicpc.net/problem/1427"
   ]
  },
  {
   "cell_type": "code",
   "execution_count": 50,
   "id": "8de5bfae",
   "metadata": {},
   "outputs": [
    {
     "name": "stdout",
     "output_type": "stream",
     "text": [
      "2143\n"
     ]
    }
   ],
   "source": [
    "N = list(input())"
   ]
  },
  {
   "cell_type": "code",
   "execution_count": 51,
   "id": "cb3e7e6e",
   "metadata": {},
   "outputs": [
    {
     "name": "stdout",
     "output_type": "stream",
     "text": [
      "['2', '1', '4', '3']\n"
     ]
    }
   ],
   "source": [
    "print(N)"
   ]
  },
  {
   "cell_type": "code",
   "execution_count": 52,
   "id": "e5554cc8",
   "metadata": {},
   "outputs": [
    {
     "name": "stdout",
     "output_type": "stream",
     "text": [
      "4321"
     ]
    }
   ],
   "source": [
    "new = list(map(int,N))\n",
    "\n",
    "new.sort(reverse=True) # reverse=True 내림차순\n",
    "\n",
    "for i in new:\n",
    "    print(i,end=\"\") # end=\"\" 옆으로 이어서 출력해준다"
   ]
  },
  {
   "cell_type": "code",
   "execution_count": null,
   "id": "587a0e6c",
   "metadata": {},
   "outputs": [],
   "source": []
  },
  {
   "cell_type": "code",
   "execution_count": 1,
   "id": "aaeb33b6",
   "metadata": {},
   "outputs": [
    {
     "name": "stdout",
     "output_type": "stream",
     "text": [
      "2143\n"
     ]
    }
   ],
   "source": [
    "N = list(map(int,input()))"
   ]
  },
  {
   "cell_type": "code",
   "execution_count": 2,
   "id": "31cdb2a1",
   "metadata": {},
   "outputs": [
    {
     "name": "stdout",
     "output_type": "stream",
     "text": [
      "4321"
     ]
    }
   ],
   "source": [
    "N.sort(reverse=True)\n",
    "for i in N:\n",
    "    print(i,end=\"\")"
   ]
  },
  {
   "cell_type": "code",
   "execution_count": null,
   "id": "025ac4bf",
   "metadata": {},
   "outputs": [],
   "source": []
  }
 ],
 "metadata": {
  "kernelspec": {
   "display_name": "Python 3 (ipykernel)",
   "language": "python",
   "name": "python3"
  },
  "language_info": {
   "codemirror_mode": {
    "name": "ipython",
    "version": 3
   },
   "file_extension": ".py",
   "mimetype": "text/x-python",
   "name": "python",
   "nbconvert_exporter": "python",
   "pygments_lexer": "ipython3",
   "version": "3.9.12"
  }
 },
 "nbformat": 4,
 "nbformat_minor": 5
}
