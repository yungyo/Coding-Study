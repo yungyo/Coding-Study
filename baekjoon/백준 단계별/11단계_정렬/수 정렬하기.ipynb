{
 "cells": [
  {
   "cell_type": "markdown",
   "id": "0bebb223",
   "metadata": {},
   "source": [
    "수 정렬하기\n",
    "\n",
    "https://www.acmicpc.net/problem/2750"
   ]
  },
  {
   "cell_type": "code",
   "execution_count": 2,
   "id": "b5a3b470",
   "metadata": {},
   "outputs": [
    {
     "name": "stdout",
     "output_type": "stream",
     "text": [
      "5\n"
     ]
    }
   ],
   "source": [
    "N = int(input())"
   ]
  },
  {
   "cell_type": "code",
   "execution_count": 7,
   "id": "74f1bb9e",
   "metadata": {},
   "outputs": [
    {
     "name": "stdout",
     "output_type": "stream",
     "text": [
      "5\n",
      "2\n",
      "3\n",
      "4\n",
      "1\n",
      "1\n",
      "2\n",
      "3\n",
      "4\n",
      "5\n"
     ]
    }
   ],
   "source": [
    "a = []\n",
    "for i in range(N):\n",
    "    num = int(input())\n",
    "    a.append(num)\n",
    "a.sort()\n",
    "\n",
    "for j in range(len(a)):\n",
    "    print(a[j])"
   ]
  },
  {
   "cell_type": "code",
   "execution_count": null,
   "id": "ed3d5a81",
   "metadata": {},
   "outputs": [],
   "source": []
  }
 ],
 "metadata": {
  "kernelspec": {
   "display_name": "Python 3",
   "language": "python",
   "name": "python3"
  },
  "language_info": {
   "codemirror_mode": {
    "name": "ipython",
    "version": 3
   },
   "file_extension": ".py",
   "mimetype": "text/x-python",
   "name": "python",
   "nbconvert_exporter": "python",
   "pygments_lexer": "ipython3",
   "version": "3.8.8"
  }
 },
 "nbformat": 4,
 "nbformat_minor": 5
}
