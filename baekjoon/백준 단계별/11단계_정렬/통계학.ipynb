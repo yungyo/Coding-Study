{
 "cells": [
  {
   "cell_type": "markdown",
   "id": "5f109a1f",
   "metadata": {},
   "source": [
    "통계학\n",
    "\n",
    "https://www.acmicpc.net/problem/2108"
   ]
  },
  {
   "cell_type": "code",
   "execution_count": 29,
   "id": "ee21f3cb",
   "metadata": {},
   "outputs": [
    {
     "name": "stdout",
     "output_type": "stream",
     "text": [
      "5\n"
     ]
    }
   ],
   "source": [
    "N = int(input())"
   ]
  },
  {
   "cell_type": "code",
   "execution_count": 30,
   "id": "eee97182",
   "metadata": {},
   "outputs": [
    {
     "name": "stdout",
     "output_type": "stream",
     "text": [
      "-1\n",
      "-2\n",
      "-3\n",
      "-1\n",
      "-2\n"
     ]
    }
   ],
   "source": [
    "nums = []\n",
    "for i in range(N):\n",
    "    num = int(input())\n",
    "    nums.append((num))"
   ]
  },
  {
   "cell_type": "code",
   "execution_count": 31,
   "id": "a9689975",
   "metadata": {},
   "outputs": [
    {
     "name": "stdout",
     "output_type": "stream",
     "text": [
      "[-1, -2, -3, -1, -2]\n"
     ]
    }
   ],
   "source": [
    "print(nums)"
   ]
  },
  {
   "cell_type": "code",
   "execution_count": 32,
   "id": "64748661",
   "metadata": {},
   "outputs": [
    {
     "name": "stdout",
     "output_type": "stream",
     "text": [
      "-2\n"
     ]
    }
   ],
   "source": [
    "import numpy as np\n",
    "\n",
    "print(round(np.mean(nums)))\n",
    "#산술평균\n",
    "#round() : 정수만 출력\n",
    "#roudn(x,3) : 소수점 아래 3자리 출력"
   ]
  },
  {
   "cell_type": "code",
   "execution_count": 33,
   "id": "18e75504",
   "metadata": {},
   "outputs": [
    {
     "name": "stdout",
     "output_type": "stream",
     "text": [
      "-2\n"
     ]
    }
   ],
   "source": [
    "print(round(np.median(nums)))\n",
    "# 중앙값"
   ]
  },
  {
   "cell_type": "code",
   "execution_count": 34,
   "id": "b4643d17",
   "metadata": {},
   "outputs": [
    {
     "name": "stdout",
     "output_type": "stream",
     "text": [
      "-1\n"
     ]
    }
   ],
   "source": [
    "import statistics\n",
    "\n",
    "mode = []\n",
    "mode.append(statistics.mode(nums))\n",
    "\n",
    "if len(mode)==1 : print(mode[0])\n",
    "    \n",
    "elif len(mode)>1 : \n",
    "    b = sorted(mode,reverse=True)\n",
    "    print(b[1])\n",
    "\n",
    "#최빈값\n",
    "#최빈값이 여러개일 경우 두 번째로 작은 값을 출력한다"
   ]
  },
  {
   "cell_type": "code",
   "execution_count": 35,
   "id": "792a81a3",
   "metadata": {},
   "outputs": [
    {
     "name": "stdout",
     "output_type": "stream",
     "text": [
      "2\n"
     ]
    }
   ],
   "source": [
    "print(max(nums)-min(nums))\n",
    "#범위 : 최댓값과 최솟값의 차이"
   ]
  },
  {
   "cell_type": "code",
   "execution_count": null,
   "id": "b513c0ac",
   "metadata": {},
   "outputs": [],
   "source": []
  },
  {
   "cell_type": "code",
   "execution_count": 50,
   "id": "9e93ec44",
   "metadata": {},
   "outputs": [
    {
     "name": "stdout",
     "output_type": "stream",
     "text": [
      "1\n",
      "4000\n",
      "4000\n",
      "4000\n",
      "4000\n",
      "0\n"
     ]
    }
   ],
   "source": [
    "# 위의 코드 하나로 합친 것\n",
    "\n",
    "import numpy as np\n",
    "import statistics\n",
    "import sys\n",
    "\n",
    "N = int(input())\n",
    "\n",
    "nums = []\n",
    "for i in range(N):\n",
    "    num = int(input())\n",
    "    nums.append((num))\n",
    "\n",
    "print(round(np.mean(nums))) #산술평균\n",
    "print(round(np.median(nums))) #중앙값\n",
    "\n",
    "mode = []\n",
    "mode.append(statistics.mode(nums))\n",
    "\n",
    "if len(mode)==1 : print(mode[0])\n",
    "    \n",
    "elif len(mode)>1 : \n",
    "    b = sorted(mode)\n",
    "    print(b[1]) #최빈값\n",
    "    \n",
    "print(max(nums)-min(nums)) #범위"
   ]
  },
  {
   "cell_type": "code",
   "execution_count": null,
   "id": "0c44b9e9",
   "metadata": {},
   "outputs": [],
   "source": []
  }
 ],
 "metadata": {
  "kernelspec": {
   "display_name": "Python 3",
   "language": "python",
   "name": "python3"
  },
  "language_info": {
   "codemirror_mode": {
    "name": "ipython",
    "version": 3
   },
   "file_extension": ".py",
   "mimetype": "text/x-python",
   "name": "python",
   "nbconvert_exporter": "python",
   "pygments_lexer": "ipython3",
   "version": "3.8.8"
  }
 },
 "nbformat": 4,
 "nbformat_minor": 5
}
