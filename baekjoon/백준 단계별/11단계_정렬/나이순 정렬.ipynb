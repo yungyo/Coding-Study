{
 "cells": [
  {
   "cell_type": "markdown",
   "id": "5e24d8eb",
   "metadata": {},
   "source": [
    "나이순 정렬\n",
    "\n",
    "https://www.acmicpc.net/problem/10814"
   ]
  },
  {
   "cell_type": "code",
   "execution_count": 1,
   "id": "a82c74e3",
   "metadata": {},
   "outputs": [
    {
     "name": "stdout",
     "output_type": "stream",
     "text": [
      "3\n"
     ]
    }
   ],
   "source": [
    "N = int(input())"
   ]
  },
  {
   "cell_type": "code",
   "execution_count": 6,
   "id": "bc88f0a0",
   "metadata": {},
   "outputs": [
    {
     "name": "stdout",
     "output_type": "stream",
     "text": [
      "21 Dohyun\n",
      "21 Junkyu\n",
      "20 hana\n",
      "[[21, 'Dohyun'], [21, 'Junkyu'], [20, 'hana']]\n"
     ]
    }
   ],
   "source": [
    "human = []\n",
    "for i in range(N):\n",
    "    age, name = input().split()\n",
    "    age = int(age)\n",
    "    \n",
    "    human.append([age,name])\n",
    "print(human)"
   ]
  },
  {
   "cell_type": "code",
   "execution_count": 12,
   "id": "b637e9f4",
   "metadata": {},
   "outputs": [
    {
     "name": "stdout",
     "output_type": "stream",
     "text": [
      "[[20, 'hana'], [21, 'Dohyun'], [21, 'Junkyu']]\n",
      "20 hana\n",
      "21 Dohyun\n",
      "21 Junkyu\n"
     ]
    }
   ],
   "source": [
    "ans = sorted(human, key=lambda x:(x[0]))\n",
    "print(ans)\n",
    "\n",
    "for j in ans:\n",
    "    print(j[0],j[1])"
   ]
  },
  {
   "cell_type": "code",
   "execution_count": null,
   "id": "39606cf6",
   "metadata": {},
   "outputs": [],
   "source": []
  },
  {
   "cell_type": "code",
   "execution_count": 15,
   "id": "94d7c2af",
   "metadata": {},
   "outputs": [
    {
     "name": "stdout",
     "output_type": "stream",
     "text": [
      "3\n"
     ]
    }
   ],
   "source": [
    "N = int(input())"
   ]
  },
  {
   "cell_type": "code",
   "execution_count": 19,
   "id": "82c688ff",
   "metadata": {},
   "outputs": [
    {
     "name": "stdout",
     "output_type": "stream",
     "text": [
      "21 Junkyu\n",
      "21 Dohyun\n",
      "20 Sunyoung\n",
      "[(21, 'Junkyu'), (21, 'Dohyun'), (20, 'Sunyoung')]\n"
     ]
    }
   ],
   "source": [
    "lst = []\n",
    "for i in range(N):\n",
    "    age, name = input().split()\n",
    "    age = int(age)\n",
    "    lst.append((age,name))\n",
    "print(lst)"
   ]
  },
  {
   "cell_type": "code",
   "execution_count": 20,
   "id": "7d98f781",
   "metadata": {},
   "outputs": [
    {
     "name": "stdout",
     "output_type": "stream",
     "text": [
      "[(20, 'Sunyoung'), (21, 'Junkyu'), (21, 'Dohyun')]\n"
     ]
    }
   ],
   "source": [
    "lst.sort(key=lambda x:x[0])\n",
    "print(lst)"
   ]
  },
  {
   "cell_type": "code",
   "execution_count": 23,
   "id": "ac05b368",
   "metadata": {},
   "outputs": [
    {
     "name": "stdout",
     "output_type": "stream",
     "text": [
      "20 Sunyoung\n",
      "21 Junkyu\n",
      "21 Dohyun\n"
     ]
    }
   ],
   "source": [
    "for j in lst:\n",
    "    print(j[0],j[1])"
   ]
  },
  {
   "cell_type": "code",
   "execution_count": null,
   "id": "2c0e37fd",
   "metadata": {},
   "outputs": [],
   "source": []
  }
 ],
 "metadata": {
  "kernelspec": {
   "display_name": "Python 3 (ipykernel)",
   "language": "python",
   "name": "python3"
  },
  "language_info": {
   "codemirror_mode": {
    "name": "ipython",
    "version": 3
   },
   "file_extension": ".py",
   "mimetype": "text/x-python",
   "name": "python",
   "nbconvert_exporter": "python",
   "pygments_lexer": "ipython3",
   "version": "3.9.12"
  }
 },
 "nbformat": 4,
 "nbformat_minor": 5
}
