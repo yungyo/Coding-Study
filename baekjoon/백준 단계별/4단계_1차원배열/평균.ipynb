{
 "cells": [
  {
   "cell_type": "markdown",
   "id": "f70b46a3",
   "metadata": {},
   "source": [
    "평균\n",
    "\n",
    "https://www.acmicpc.net/problem/1546"
   ]
  },
  {
   "cell_type": "code",
   "execution_count": 9,
   "id": "38f7f9af",
   "metadata": {},
   "outputs": [
    {
     "name": "stdout",
     "output_type": "stream",
     "text": [
      "4\n",
      "1 100 100 100\n"
     ]
    }
   ],
   "source": [
    "N = int(input())\n",
    "score = list(map(int,input().split()))"
   ]
  },
  {
   "cell_type": "code",
   "execution_count": 10,
   "id": "2d0fa358",
   "metadata": {},
   "outputs": [
    {
     "name": "stdout",
     "output_type": "stream",
     "text": [
      "75.25\n"
     ]
    }
   ],
   "source": [
    "new = []\n",
    "\n",
    "for i in range(N) :\n",
    "    new.append((score[i]/max(score))*100)\n",
    "print(sum(new)/N)"
   ]
  },
  {
   "cell_type": "code",
   "execution_count": null,
   "id": "82422742",
   "metadata": {},
   "outputs": [],
   "source": []
  },
  {
   "cell_type": "code",
   "execution_count": 2,
   "id": "f87cf61a",
   "metadata": {},
   "outputs": [
    {
     "name": "stdout",
     "output_type": "stream",
     "text": [
      "3\n",
      "40 80 60\n",
      "75.0\n"
     ]
    }
   ],
   "source": [
    "N = int(input())\n",
    "score = list(map(int, input().split()))\n",
    "\n",
    "M = max(score)\n",
    "new = []\n",
    "for i in score: new.append(i/M*100)\n",
    "\n",
    "print(sum(new)/N)"
   ]
  },
  {
   "cell_type": "code",
   "execution_count": null,
   "id": "67922e2b",
   "metadata": {},
   "outputs": [],
   "source": []
  }
 ],
 "metadata": {
  "kernelspec": {
   "display_name": "Python 3",
   "language": "python",
   "name": "python3"
  },
  "language_info": {
   "codemirror_mode": {
    "name": "ipython",
    "version": 3
   },
   "file_extension": ".py",
   "mimetype": "text/x-python",
   "name": "python",
   "nbconvert_exporter": "python",
   "pygments_lexer": "ipython3",
   "version": "3.8.8"
  }
 },
 "nbformat": 4,
 "nbformat_minor": 5
}
