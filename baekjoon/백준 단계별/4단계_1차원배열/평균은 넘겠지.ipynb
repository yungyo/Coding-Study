{
 "cells": [
  {
   "cell_type": "markdown",
   "id": "4d8a8681",
   "metadata": {},
   "source": [
    "평균은 넘겠지\n",
    "\n",
    "https://www.acmicpc.net/problem/4344"
   ]
  },
  {
   "cell_type": "code",
   "execution_count": 11,
   "id": "c119e4b0",
   "metadata": {},
   "outputs": [
    {
     "name": "stdout",
     "output_type": "stream",
     "text": [
      "1\n",
      "5 50 50 70 80 100\n",
      "40.000%\n"
     ]
    }
   ],
   "source": [
    "c = int(input())\n",
    "\n",
    "for i in range(c) :\n",
    "    n = list(map(int,input().split()))\n",
    "    \n",
    "    avg = sum(n[1:])/n[0] #평균 = 점수합/인원수\n",
    "    \n",
    "    count = 0\n",
    "    for j in n[1:] :\n",
    "        if j > avg : count+=1 #평균보다 큰 학생들의 수\n",
    "    \n",
    "    ans = count/n[0] * 100 #평균을 넘는 학생들의 비율\n",
    "    print('%.3f'%ans+\"%\") # %.3f : 소수점 아래 3자리"
   ]
  },
  {
   "cell_type": "code",
   "execution_count": null,
   "id": "23291453",
   "metadata": {},
   "outputs": [],
   "source": []
  }
 ],
 "metadata": {
  "kernelspec": {
   "display_name": "Python 3",
   "language": "python",
   "name": "python3"
  },
  "language_info": {
   "codemirror_mode": {
    "name": "ipython",
    "version": 3
   },
   "file_extension": ".py",
   "mimetype": "text/x-python",
   "name": "python",
   "nbconvert_exporter": "python",
   "pygments_lexer": "ipython3",
   "version": "3.8.8"
  }
 },
 "nbformat": 4,
 "nbformat_minor": 5
}
