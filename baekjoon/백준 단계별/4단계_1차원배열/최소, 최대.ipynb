{
 "cells": [
  {
   "cell_type": "markdown",
   "id": "6a7f0cfc",
   "metadata": {},
   "source": [
    "최소, 최대\n",
    "\n",
    "https://www.acmicpc.net/problem/10818"
   ]
  },
  {
   "cell_type": "code",
   "execution_count": 2,
   "id": "83f9ec33",
   "metadata": {},
   "outputs": [
    {
     "name": "stdout",
     "output_type": "stream",
     "text": [
      "5\n",
      "20 10 35 30 7\n"
     ]
    }
   ],
   "source": [
    "N = int(input())\n",
    "n = list(map(int,input().split()))"
   ]
  },
  {
   "cell_type": "code",
   "execution_count": 3,
   "id": "e44c2457",
   "metadata": {},
   "outputs": [
    {
     "name": "stdout",
     "output_type": "stream",
     "text": [
      "7 35\n"
     ]
    }
   ],
   "source": [
    "print(min(n),max(n))"
   ]
  },
  {
   "cell_type": "code",
   "execution_count": null,
   "id": "f46e4073",
   "metadata": {},
   "outputs": [],
   "source": []
  }
 ],
 "metadata": {
  "kernelspec": {
   "display_name": "Python 3",
   "language": "python",
   "name": "python3"
  },
  "language_info": {
   "codemirror_mode": {
    "name": "ipython",
    "version": 3
   },
   "file_extension": ".py",
   "mimetype": "text/x-python",
   "name": "python",
   "nbconvert_exporter": "python",
   "pygments_lexer": "ipython3",
   "version": "3.8.8"
  }
 },
 "nbformat": 4,
 "nbformat_minor": 5
}
