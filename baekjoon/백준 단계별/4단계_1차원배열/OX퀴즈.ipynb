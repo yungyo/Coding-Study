{
 "cells": [
  {
   "cell_type": "markdown",
   "id": "ba8b3645",
   "metadata": {},
   "source": [
    "OX퀴즈\n",
    "\n",
    "https://www.acmicpc.net/problem/8958"
   ]
  },
  {
   "cell_type": "code",
   "execution_count": 13,
   "id": "ab05f679",
   "metadata": {},
   "outputs": [
    {
     "name": "stdout",
     "output_type": "stream",
     "text": [
      "5\n",
      "OOXXOXXOOO\n",
      "10\n",
      "OOXXOOXXOO\n",
      "9\n",
      "OXOXOXOXOXOXOX\n",
      "7\n",
      "OOOOOOOOOO\n",
      "55\n",
      "OOOOXOOOOXOOOOX\n",
      "30\n"
     ]
    }
   ],
   "source": [
    "n = int(input())\n",
    "\n",
    "for j in range(n) :\n",
    "    score = list(input())\n",
    "    ans=0\n",
    "    new=0\n",
    "    for i in range(len(score)) :\n",
    "        if score[i]=='O' : \n",
    "            ans+=1 # 'O'가 연속되면 점수가 1씩 커진다.\n",
    "            new = new+ans # 점수의 합계\n",
    "        else : ans=0 # 'X'일 때 0으로 리셋\n",
    "    print(new)"
   ]
  },
  {
   "cell_type": "code",
   "execution_count": null,
   "id": "a93248cb",
   "metadata": {},
   "outputs": [],
   "source": []
  },
  {
   "cell_type": "code",
   "execution_count": 3,
   "id": "3194a7e4",
   "metadata": {},
   "outputs": [
    {
     "name": "stdout",
     "output_type": "stream",
     "text": [
      "5\n",
      "OOXXOXXOOO\n",
      "10\n",
      "OOXXOOXXOO\n",
      "9\n",
      "OXOXOXOXOXOXOX\n",
      "7\n",
      "OOOOOOOOOO\n",
      "55\n",
      "OOOOXOOOOXOOOOX\n",
      "30\n"
     ]
    }
   ],
   "source": [
    "n = int(input())\n",
    "\n",
    "for i in range(n):\n",
    "    ans=list(input())\n",
    "    score=0\n",
    "    last=0\n",
    "    for j in ans:\n",
    "        if j=='O': score+=1\n",
    "        else: score=0\n",
    "        last=last+score\n",
    "    print(last)"
   ]
  },
  {
   "cell_type": "code",
   "execution_count": null,
   "id": "1b90b150",
   "metadata": {},
   "outputs": [],
   "source": []
  }
 ],
 "metadata": {
  "kernelspec": {
   "display_name": "Python 3",
   "language": "python",
   "name": "python3"
  },
  "language_info": {
   "codemirror_mode": {
    "name": "ipython",
    "version": 3
   },
   "file_extension": ".py",
   "mimetype": "text/x-python",
   "name": "python",
   "nbconvert_exporter": "python",
   "pygments_lexer": "ipython3",
   "version": "3.8.8"
  }
 },
 "nbformat": 4,
 "nbformat_minor": 5
}
