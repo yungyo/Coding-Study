{
 "cells": [
  {
   "cell_type": "markdown",
   "id": "c5d41ea0",
   "metadata": {},
   "source": [
    "나머지\n",
    "\n",
    "https://www.acmicpc.net/problem/3052"
   ]
  },
  {
   "cell_type": "code",
   "execution_count": 6,
   "id": "883cc453",
   "metadata": {},
   "outputs": [
    {
     "name": "stdout",
     "output_type": "stream",
     "text": [
      "1\n",
      "2\n",
      "3\n",
      "4\n",
      "5\n",
      "6\n",
      "7\n",
      "8\n",
      "9\n",
      "10\n",
      "10\n"
     ]
    }
   ],
   "source": [
    "new = []\n",
    "\n",
    "for i in range(10) :\n",
    "    n = int(input())\n",
    "    new.append(n%42)\n",
    "    \n",
    "print(len(set(new)))\n",
    "\n",
    "# set : 중복 제거 , 단 순서가 뒤죽박죽 될 수 있음"
   ]
  },
  {
   "cell_type": "code",
   "execution_count": null,
   "id": "e393834b",
   "metadata": {},
   "outputs": [],
   "source": []
  }
 ],
 "metadata": {
  "kernelspec": {
   "display_name": "Python 3",
   "language": "python",
   "name": "python3"
  },
  "language_info": {
   "codemirror_mode": {
    "name": "ipython",
    "version": 3
   },
   "file_extension": ".py",
   "mimetype": "text/x-python",
   "name": "python",
   "nbconvert_exporter": "python",
   "pygments_lexer": "ipython3",
   "version": "3.8.8"
  }
 },
 "nbformat": 4,
 "nbformat_minor": 5
}
