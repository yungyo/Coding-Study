{
 "cells": [
  {
   "cell_type": "markdown",
   "id": "ef36c73f",
   "metadata": {},
   "source": [
    "??!\n",
    "\n",
    "https://www.acmicpc.net/problem/10926"
   ]
  },
  {
   "cell_type": "code",
   "execution_count": 20,
   "id": "ea823677",
   "metadata": {},
   "outputs": [
    {
     "name": "stdout",
     "output_type": "stream",
     "text": [
      "baekjoon\n"
     ]
    }
   ],
   "source": [
    "id = input()"
   ]
  },
  {
   "cell_type": "code",
   "execution_count": 21,
   "id": "5787313a",
   "metadata": {},
   "outputs": [
    {
     "name": "stdout",
     "output_type": "stream",
     "text": [
      "baekjoon??!\n"
     ]
    }
   ],
   "source": [
    "a = [\"joonas\",\"baekjoon\"]\n",
    "\n",
    "if id in a : print(id+\"??!\")\n",
    "else : print(id)"
   ]
  },
  {
   "cell_type": "markdown",
   "id": "894be7b1",
   "metadata": {},
   "source": [
    "틀렸습니다... ㅠㅠ\n",
    "\n",
    "단순 print 문제였음"
   ]
  },
  {
   "cell_type": "code",
   "execution_count": 22,
   "id": "386e5148",
   "metadata": {},
   "outputs": [
    {
     "name": "stdout",
     "output_type": "stream",
     "text": [
      "beakjoon\n",
      "beakjoon??!\n"
     ]
    }
   ],
   "source": [
    "# 정답\n",
    "print(input()+\"??!\")"
   ]
  },
  {
   "cell_type": "code",
   "execution_count": null,
   "id": "763e87f3",
   "metadata": {},
   "outputs": [],
   "source": []
  }
 ],
 "metadata": {
  "kernelspec": {
   "display_name": "Python 3",
   "language": "python",
   "name": "python3"
  },
  "language_info": {
   "codemirror_mode": {
    "name": "ipython",
    "version": 3
   },
   "file_extension": ".py",
   "mimetype": "text/x-python",
   "name": "python",
   "nbconvert_exporter": "python",
   "pygments_lexer": "ipython3",
   "version": "3.8.8"
  }
 },
 "nbformat": 4,
 "nbformat_minor": 5
}
