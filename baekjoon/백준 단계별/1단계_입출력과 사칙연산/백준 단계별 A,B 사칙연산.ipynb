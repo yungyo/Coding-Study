{
 "cells": [
  {
   "cell_type": "markdown",
   "id": "27c40aa6",
   "metadata": {},
   "source": [
    "A+B\n",
    "\n",
    "https://www.acmicpc.net/problem/1000"
   ]
  },
  {
   "cell_type": "code",
   "execution_count": 3,
   "id": "76ee2138",
   "metadata": {},
   "outputs": [
    {
     "name": "stdout",
     "output_type": "stream",
     "text": [
      "1 2\n"
     ]
    }
   ],
   "source": [
    "A,B = input().split()"
   ]
  },
  {
   "cell_type": "code",
   "execution_count": 5,
   "id": "0efc755e",
   "metadata": {},
   "outputs": [
    {
     "name": "stdout",
     "output_type": "stream",
     "text": [
      "3\n"
     ]
    }
   ],
   "source": [
    "print(int(A)+int(B))"
   ]
  },
  {
   "cell_type": "markdown",
   "id": "0ea2abd5",
   "metadata": {},
   "source": [
    "A-B\n",
    "\n",
    "https://www.acmicpc.net/problem/1001"
   ]
  },
  {
   "cell_type": "code",
   "execution_count": 1,
   "id": "9dbc4291",
   "metadata": {},
   "outputs": [
    {
     "name": "stdout",
     "output_type": "stream",
     "text": [
      "3 2\n"
     ]
    }
   ],
   "source": [
    "A, B = input().split()"
   ]
  },
  {
   "cell_type": "code",
   "execution_count": 2,
   "id": "ea4ae90f",
   "metadata": {},
   "outputs": [
    {
     "data": {
      "text/plain": [
       "1"
      ]
     },
     "execution_count": 2,
     "metadata": {},
     "output_type": "execute_result"
    }
   ],
   "source": [
    "int(A)-int(B)"
   ]
  },
  {
   "cell_type": "markdown",
   "id": "dbc60011",
   "metadata": {},
   "source": [
    "AxB\n",
    "\n",
    "https://www.acmicpc.net/problem/10998"
   ]
  },
  {
   "cell_type": "code",
   "execution_count": 6,
   "id": "343ba37d",
   "metadata": {},
   "outputs": [
    {
     "name": "stdout",
     "output_type": "stream",
     "text": [
      "3 4\n"
     ]
    }
   ],
   "source": [
    "A,B = input().split()"
   ]
  },
  {
   "cell_type": "code",
   "execution_count": 7,
   "id": "25c84842",
   "metadata": {},
   "outputs": [
    {
     "data": {
      "text/plain": [
       "12"
      ]
     },
     "execution_count": 7,
     "metadata": {},
     "output_type": "execute_result"
    }
   ],
   "source": [
    "int(A)*int(B)"
   ]
  },
  {
   "cell_type": "markdown",
   "id": "5c44bc31",
   "metadata": {},
   "source": [
    "A/B\n",
    "\n",
    "https://www.acmicpc.net/problem/1008"
   ]
  },
  {
   "cell_type": "code",
   "execution_count": 10,
   "id": "fbc551fd",
   "metadata": {},
   "outputs": [
    {
     "name": "stdout",
     "output_type": "stream",
     "text": [
      "4 5\n"
     ]
    }
   ],
   "source": [
    "A,B = input().split()"
   ]
  },
  {
   "cell_type": "code",
   "execution_count": 11,
   "id": "f242176e",
   "metadata": {},
   "outputs": [
    {
     "data": {
      "text/plain": [
       "0.8"
      ]
     },
     "execution_count": 11,
     "metadata": {},
     "output_type": "execute_result"
    }
   ],
   "source": [
    "int(A)/int(B)"
   ]
  },
  {
   "cell_type": "markdown",
   "id": "9a2e29a0",
   "metadata": {},
   "source": [
    "사칙연산\n",
    "\n",
    "https://www.acmicpc.net/problem/10869"
   ]
  },
  {
   "cell_type": "code",
   "execution_count": 16,
   "id": "71c833cc",
   "metadata": {},
   "outputs": [
    {
     "name": "stdout",
     "output_type": "stream",
     "text": [
      "7 3\n"
     ]
    }
   ],
   "source": [
    "A,B = input().split()"
   ]
  },
  {
   "cell_type": "code",
   "execution_count": 17,
   "id": "4101a22c",
   "metadata": {},
   "outputs": [
    {
     "name": "stdout",
     "output_type": "stream",
     "text": [
      "10\n",
      "4\n",
      "21\n",
      "2\n",
      "1\n"
     ]
    }
   ],
   "source": [
    "print(int(A)+int(B))\n",
    "print(int(A)-int(B))\n",
    "print(int(A)*int(B))\n",
    "print(int(A)//int(B)) #몫\n",
    "print(int(A)%int(B))"
   ]
  },
  {
   "cell_type": "code",
   "execution_count": null,
   "id": "4983f180",
   "metadata": {},
   "outputs": [],
   "source": []
  }
 ],
 "metadata": {
  "kernelspec": {
   "display_name": "Python 3",
   "language": "python",
   "name": "python3"
  },
  "language_info": {
   "codemirror_mode": {
    "name": "ipython",
    "version": 3
   },
   "file_extension": ".py",
   "mimetype": "text/x-python",
   "name": "python",
   "nbconvert_exporter": "python",
   "pygments_lexer": "ipython3",
   "version": "3.8.8"
  }
 },
 "nbformat": 4,
 "nbformat_minor": 5
}
