{
 "cells": [
  {
   "cell_type": "markdown",
   "id": "58113458",
   "metadata": {},
   "source": [
    "N 찍기\n",
    "\n",
    "https://www.acmicpc.net/problem/2741"
   ]
  },
  {
   "cell_type": "code",
   "execution_count": 5,
   "id": "2f08df11",
   "metadata": {},
   "outputs": [
    {
     "name": "stdout",
     "output_type": "stream",
     "text": [
      "5\n",
      "1\n",
      "2\n",
      "3\n",
      "4\n",
      "5\n"
     ]
    }
   ],
   "source": [
    "n = int(input())\n",
    "for i in range(1,n+1) : print(i)"
   ]
  },
  {
   "cell_type": "code",
   "execution_count": null,
   "id": "b10dddd6",
   "metadata": {},
   "outputs": [],
   "source": []
  }
 ],
 "metadata": {
  "kernelspec": {
   "display_name": "Python 3",
   "language": "python",
   "name": "python3"
  },
  "language_info": {
   "codemirror_mode": {
    "name": "ipython",
    "version": 3
   },
   "file_extension": ".py",
   "mimetype": "text/x-python",
   "name": "python",
   "nbconvert_exporter": "python",
   "pygments_lexer": "ipython3",
   "version": "3.8.8"
  }
 },
 "nbformat": 4,
 "nbformat_minor": 5
}
