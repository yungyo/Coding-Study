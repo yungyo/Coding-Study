{
 "cells": [
  {
   "cell_type": "markdown",
   "id": "13b6ea34",
   "metadata": {},
   "source": [
    "A+B-7\n",
    "\n",
    "https://www.acmicpc.net/problem/11021"
   ]
  },
  {
   "cell_type": "code",
   "execution_count": 5,
   "id": "45d1557b",
   "metadata": {},
   "outputs": [
    {
     "name": "stdout",
     "output_type": "stream",
     "text": [
      "5\n",
      "1 1\n",
      "Case #0: 2\n",
      "5 5\n",
      "Case #1: 10\n",
      "5 5\n",
      "Case #2: 10\n",
      " 41 1\n",
      "Case #3: 42\n",
      "1 5\n",
      "Case #4: 6\n"
     ]
    }
   ],
   "source": [
    "T = int(input())\n",
    "\n",
    "for i in range(1,T+1) :\n",
    "    A,B = map(int,input().split())\n",
    "    print(\"Case #\"+str(i)+\":\",A+B)"
   ]
  },
  {
   "cell_type": "code",
   "execution_count": null,
   "id": "eb7f99f3",
   "metadata": {},
   "outputs": [],
   "source": []
  }
 ],
 "metadata": {
  "kernelspec": {
   "display_name": "Python 3",
   "language": "python",
   "name": "python3"
  },
  "language_info": {
   "codemirror_mode": {
    "name": "ipython",
    "version": 3
   },
   "file_extension": ".py",
   "mimetype": "text/x-python",
   "name": "python",
   "nbconvert_exporter": "python",
   "pygments_lexer": "ipython3",
   "version": "3.8.8"
  }
 },
 "nbformat": 4,
 "nbformat_minor": 5
}
