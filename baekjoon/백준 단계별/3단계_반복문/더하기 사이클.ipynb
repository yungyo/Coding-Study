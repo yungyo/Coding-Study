{
 "cells": [
  {
   "cell_type": "markdown",
   "id": "62da908f",
   "metadata": {},
   "source": [
    "더하기 사이클\n",
    "\n",
    "https://www.acmicpc.net/problem/1110"
   ]
  },
  {
   "cell_type": "code",
   "execution_count": 2,
   "id": "ad407287",
   "metadata": {},
   "outputs": [
    {
     "name": "stdout",
     "output_type": "stream",
     "text": [
      "68\n"
     ]
    }
   ],
   "source": [
    "n = int(input())"
   ]
  },
  {
   "cell_type": "code",
   "execution_count": 5,
   "id": "b240ad3d",
   "metadata": {},
   "outputs": [
    {
     "name": "stdout",
     "output_type": "stream",
     "text": [
      "4\n"
     ]
    }
   ],
   "source": [
    "num = n\n",
    "count = 0\n",
    "\n",
    "while True:\n",
    "    a = num//10\n",
    "    b = num%10\n",
    "    c = (a+b)%10\n",
    "    \n",
    "    num = (b*10)+c\n",
    "    \n",
    "    count += 1\n",
    "    if num==n : break\n",
    "\n",
    "print(count)"
   ]
  },
  {
   "cell_type": "markdown",
   "id": "2f4910a7",
   "metadata": {},
   "source": [
    "26 2+6=8 new=68\n",
    "\n",
    "count=0\n",
    "num = n\n",
    "while True:\n",
    "    a=num//10\n",
    "    b=num%10\n",
    "    c=(a+b)%10\n",
    "    num=(b*10)+c\n",
    "    \n",
    "    count = count+1\n",
    "    if num==n : break\n",
    "    \n",
    "print(count)"
   ]
  }
 ],
 "metadata": {
  "kernelspec": {
   "display_name": "Python 3",
   "language": "python",
   "name": "python3"
  },
  "language_info": {
   "codemirror_mode": {
    "name": "ipython",
    "version": 3
   },
   "file_extension": ".py",
   "mimetype": "text/x-python",
   "name": "python",
   "nbconvert_exporter": "python",
   "pygments_lexer": "ipython3",
   "version": "3.8.8"
  }
 },
 "nbformat": 4,
 "nbformat_minor": 5
}
