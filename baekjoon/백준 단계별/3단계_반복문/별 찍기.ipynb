{
 "cells": [
  {
   "cell_type": "markdown",
   "id": "09970f64",
   "metadata": {},
   "source": [
    "별 찍기 1\n",
    "\n",
    "https://www.acmicpc.net/problem/2438"
   ]
  },
  {
   "cell_type": "code",
   "execution_count": 6,
   "id": "4e6b2ad7",
   "metadata": {},
   "outputs": [
    {
     "name": "stdout",
     "output_type": "stream",
     "text": [
      "5\n",
      "*\n",
      "**\n",
      "***\n",
      "****\n",
      "*****\n"
     ]
    }
   ],
   "source": [
    "n = int(input())\n",
    "\n",
    "for i in range(1,n+1) : print(\"*\"*i)"
   ]
  },
  {
   "cell_type": "markdown",
   "id": "da6dce5e",
   "metadata": {},
   "source": [
    "별 찍기 2\n",
    "\n",
    "https://www.acmicpc.net/problem/2439"
   ]
  },
  {
   "cell_type": "code",
   "execution_count": 9,
   "id": "200e79a2",
   "metadata": {},
   "outputs": [
    {
     "name": "stdout",
     "output_type": "stream",
     "text": [
      "5\n",
      "    *\n",
      "   **\n",
      "  ***\n",
      " ****\n",
      "*****\n"
     ]
    }
   ],
   "source": [
    "n = int(input())\n",
    "\n",
    "for i in range(1,n+1) : print((\"*\"*i).rjust(n))\n",
    "    \n",
    "# 오른쪽 정렬 : rjust(n)"
   ]
  },
  {
   "cell_type": "code",
   "execution_count": null,
   "id": "13874d3f",
   "metadata": {},
   "outputs": [],
   "source": []
  }
 ],
 "metadata": {
  "kernelspec": {
   "display_name": "Python 3",
   "language": "python",
   "name": "python3"
  },
  "language_info": {
   "codemirror_mode": {
    "name": "ipython",
    "version": 3
   },
   "file_extension": ".py",
   "mimetype": "text/x-python",
   "name": "python",
   "nbconvert_exporter": "python",
   "pygments_lexer": "ipython3",
   "version": "3.8.8"
  }
 },
 "nbformat": 4,
 "nbformat_minor": 5
}
