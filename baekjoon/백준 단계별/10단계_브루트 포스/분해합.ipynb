{
 "cells": [
  {
   "cell_type": "markdown",
   "id": "25a6e8ec",
   "metadata": {},
   "source": [
    "분해합\n",
    "\n",
    "https://www.acmicpc.net/problem/2231"
   ]
  },
  {
   "cell_type": "markdown",
   "id": "2a91b87f",
   "metadata": {},
   "source": [
    "list 에 사용되는 map 은\n",
    "\n",
    "리스트의 요소를 지정된 함수로 처리해주는 함수\n",
    "\n",
    "list(map(함수,리스트))"
   ]
  },
  {
   "cell_type": "code",
   "execution_count": 11,
   "id": "99966066",
   "metadata": {},
   "outputs": [
    {
     "name": "stdout",
     "output_type": "stream",
     "text": [
      "216\n"
     ]
    }
   ],
   "source": [
    "N = int(input())"
   ]
  },
  {
   "cell_type": "code",
   "execution_count": 16,
   "id": "806f4d01",
   "metadata": {},
   "outputs": [
    {
     "name": "stdout",
     "output_type": "stream",
     "text": [
      "198\n"
     ]
    }
   ],
   "source": [
    "ans = 0\n",
    "for i in range(1, N+1):         # 1부터 N까지\n",
    "    bun = list(map(int, str(i)))  # 각 자리 수를 분해\n",
    "    sang = i + sum(bun)              # 분해합을 구함\n",
    "    if(sang == N):                 # 만약 분해합이 N과 같다면\n",
    "        ans = i                   # ans = i, 종료\n",
    "                                  # 생성자가 없는 경우에는 0이 나와야 하므로 ans에 넣어준다.\n",
    "        break\n",
    "\n",
    "print(ans)"
   ]
  },
  {
   "cell_type": "code",
   "execution_count": null,
   "id": "eba8813b",
   "metadata": {},
   "outputs": [],
   "source": []
  },
  {
   "cell_type": "code",
   "execution_count": 3,
   "id": "3be82367",
   "metadata": {},
   "outputs": [
    {
     "name": "stdout",
     "output_type": "stream",
     "text": [
      "256\n",
      "245\n"
     ]
    }
   ],
   "source": [
    "n = int(input())\n",
    "\n",
    "for j in range(1,n+1):\n",
    "    b = list(map(int,str(j)))\n",
    "    h = j + sum(b)\n",
    "    if h==n :\n",
    "        print(j)\n",
    "        break\n",
    "if h!=n : print(0)"
   ]
  },
  {
   "cell_type": "code",
   "execution_count": null,
   "id": "4d465f6c",
   "metadata": {},
   "outputs": [],
   "source": []
  }
 ],
 "metadata": {
  "kernelspec": {
   "display_name": "Python 3",
   "language": "python",
   "name": "python3"
  },
  "language_info": {
   "codemirror_mode": {
    "name": "ipython",
    "version": 3
   },
   "file_extension": ".py",
   "mimetype": "text/x-python",
   "name": "python",
   "nbconvert_exporter": "python",
   "pygments_lexer": "ipython3",
   "version": "3.8.8"
  }
 },
 "nbformat": 4,
 "nbformat_minor": 5
}
