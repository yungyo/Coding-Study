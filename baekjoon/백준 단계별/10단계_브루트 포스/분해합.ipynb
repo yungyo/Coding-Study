{
 "cells": [
  {
   "cell_type": "markdown",
   "id": "60c48bd5",
   "metadata": {},
   "source": [
    "분해합\n",
    "\n",
    "https://www.acmicpc.net/problem/2231"
   ]
  },
  {
   "cell_type": "markdown",
   "id": "c0f63c38",
   "metadata": {},
   "source": [
    "list 에 사용되는 map 은\n",
    "\n",
    "리스트의 요소를 지정된 함수로 처리해주는 함수\n",
    "\n",
    "list(map(함수,리스트))"
   ]
  },
  {
   "cell_type": "code",
   "execution_count": 11,
   "id": "e90ac753",
   "metadata": {},
   "outputs": [
    {
     "name": "stdout",
     "output_type": "stream",
     "text": [
      "216\n"
     ]
    }
   ],
   "source": [
    "N = int(input())"
   ]
  },
  {
   "cell_type": "code",
   "execution_count": 16,
   "id": "a6884dc0",
   "metadata": {},
   "outputs": [
    {
     "name": "stdout",
     "output_type": "stream",
     "text": [
      "198\n"
     ]
    }
   ],
   "source": [
    "ans = 0\n",
    "for i in range(1, N+1):         # 1부터 N까지\n",
    "    bun = list(map(int, str(i)))  # 각 자리 수를 분해\n",
    "    sang = i + sum(bun)              # 분해합을 구함\n",
    "    if(sang == N):                 # 만약 분해합이 N과 같다면\n",
    "        ans = i                   # ans = i, 종료\n",
    "                                  # 생성자가 없는 경우에는 0이 나와야 하므로 ans에 넣어준다.\n",
    "        break\n",
    "\n",
    "print(ans)"
   ]
  },
  {
   "cell_type": "code",
   "execution_count": null,
   "id": "f35a93f4",
   "metadata": {},
   "outputs": [],
   "source": []
  },
  {
   "cell_type": "code",
   "execution_count": 30,
   "id": "ede8ad95",
   "metadata": {},
   "outputs": [
    {
     "name": "stdout",
     "output_type": "stream",
     "text": [
      "7\n",
      "0\n"
     ]
    }
   ],
   "source": [
    "n = int(input())\n",
    "\n",
    "a = 0\n",
    "for s in range(1,n+1):\n",
    "    b = list(map(int,str(s)))\n",
    "    h = s + sum(b)\n",
    "    if h==n :\n",
    "        a = s # 생성자가 없는 경우에는 0이 들어가야 한다.\n",
    "        break\n",
    "print(a)"
   ]
  },
  {
   "cell_type": "code",
   "execution_count": null,
   "id": "acdf55c7",
   "metadata": {},
   "outputs": [],
   "source": []
  }
 ],
 "metadata": {
  "kernelspec": {
   "display_name": "Python 3",
   "language": "python",
   "name": "python3"
  },
  "language_info": {
   "codemirror_mode": {
    "name": "ipython",
    "version": 3
   },
   "file_extension": ".py",
   "mimetype": "text/x-python",
   "name": "python",
   "nbconvert_exporter": "python",
   "pygments_lexer": "ipython3",
   "version": "3.8.8"
  }
 },
 "nbformat": 4,
 "nbformat_minor": 5
}
