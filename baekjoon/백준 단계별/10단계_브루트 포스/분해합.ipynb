{
 "cells": [
  {
   "cell_type": "markdown",
   "id": "d09cec28",
   "metadata": {},
   "source": [
    "분해합\n",
    "\n",
    "https://www.acmicpc.net/problem/2231"
   ]
  },
  {
   "cell_type": "code",
   "execution_count": 11,
   "id": "3c40e3f3",
   "metadata": {},
   "outputs": [
    {
     "name": "stdout",
     "output_type": "stream",
     "text": [
      "216\n"
     ]
    }
   ],
   "source": [
    "N = int(input())"
   ]
  },
  {
   "cell_type": "code",
   "execution_count": 13,
   "id": "25b336ee",
   "metadata": {},
   "outputs": [
    {
     "name": "stdout",
     "output_type": "stream",
     "text": [
      "198\n"
     ]
    }
   ],
   "source": [
    "ans = 0\n",
    "for i in range(1, N+1):         # 1부터 N까지\n",
    "    bun = list(map(int, str(i)))  # 각 자리 수를 분해\n",
    "    sang = i + sum(bun)              # 분해합을 구함\n",
    "    if(sang == N):                 # 만약 분해합이 N과 같다면\n",
    "        ans = i                   # ans = i, 종료\n",
    "        break\n",
    "\n",
    "print(ans)"
   ]
  },
  {
   "cell_type": "code",
   "execution_count": null,
   "id": "3113124e",
   "metadata": {},
   "outputs": [],
   "source": []
  },
  {
   "cell_type": "code",
   "execution_count": null,
   "id": "5d58ab5f",
   "metadata": {},
   "outputs": [],
   "source": [
    "N = int(input())\n",
    "\n",
    "for i in range(1,N+1):\n",
    "    bun = list()"
   ]
  }
 ],
 "metadata": {
  "kernelspec": {
   "display_name": "Python 3",
   "language": "python",
   "name": "python3"
  },
  "language_info": {
   "codemirror_mode": {
    "name": "ipython",
    "version": 3
   },
   "file_extension": ".py",
   "mimetype": "text/x-python",
   "name": "python",
   "nbconvert_exporter": "python",
   "pygments_lexer": "ipython3",
   "version": "3.8.8"
  }
 },
 "nbformat": 4,
 "nbformat_minor": 5
}
