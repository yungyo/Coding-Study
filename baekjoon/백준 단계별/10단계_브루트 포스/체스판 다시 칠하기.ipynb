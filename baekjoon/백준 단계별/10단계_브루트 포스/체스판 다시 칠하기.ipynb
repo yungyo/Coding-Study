{
 "cells": [
  {
   "cell_type": "markdown",
   "id": "9d662902",
   "metadata": {},
   "source": [
    "체스판 다시 칠하기\n",
    "\n",
    "https://www.acmicpc.net/problem/1018"
   ]
  },
  {
   "cell_type": "code",
   "execution_count": 1,
   "id": "a4b26b30",
   "metadata": {},
   "outputs": [
    {
     "name": "stdout",
     "output_type": "stream",
     "text": [
      "8 8\n"
     ]
    }
   ],
   "source": [
    "N,M = map(int,input().split())\n",
    "# 세로 : N, 가로 : M"
   ]
  },
  {
   "cell_type": "code",
   "execution_count": 4,
   "id": "7826fc14",
   "metadata": {},
   "outputs": [],
   "source": [
    "start_B = [['B', 'W', 'B', 'W', 'B', 'W', 'B', 'W'],\n",
    "           ['W', 'B', 'W', 'B', 'W', 'B', 'W', 'B'],\n",
    "           ['B', 'W', 'B', 'W', 'B', 'W', 'B', 'W'], \n",
    "           ['W', 'B', 'W', 'B', 'W', 'B', 'W', 'B'],\n",
    "           ['B', 'W', 'B', 'W', 'B', 'W', 'B', 'W'], \n",
    "           ['W', 'B', 'W', 'B', 'W', 'B', 'W', 'B'],\n",
    "           ['B', 'W', 'B', 'W', 'B', 'W', 'B', 'W'], \n",
    "           ['W', 'B', 'W', 'B', 'W', 'B', 'W', 'B']]\n",
    "start_A = [['W', 'B', 'W', 'B', 'W', 'B', 'W', 'B'], \n",
    "           ['B', 'W', 'B', 'W', 'B', 'W', 'B', 'W'],\n",
    "           ['W', 'B', 'W', 'B', 'W', 'B', 'W', 'B'], \n",
    "           ['B', 'W', 'B', 'W', 'B', 'W', 'B', 'W'],\n",
    "           ['W', 'B', 'W', 'B', 'W', 'B', 'W', 'B'], \n",
    "           ['B', 'W', 'B', 'W', 'B', 'W', 'B', 'W'],\n",
    "           ['W', 'B', 'W', 'B', 'W', 'B', 'W', 'B'], \n",
    "           ['B', 'W', 'B', 'W', 'B', 'W', 'B', 'W']]"
   ]
  },
  {
   "cell_type": "markdown",
   "id": "ab2bd93c",
   "metadata": {},
   "source": [
    "코드 완성 못 함"
   ]
  },
  {
   "cell_type": "markdown",
   "id": "ce84fc97",
   "metadata": {},
   "source": [
    "https://yuuj.tistory.com/99\n",
    "\n",
    "참고한 링크"
   ]
  },
  {
   "cell_type": "code",
   "execution_count": null,
   "id": "da9c7130",
   "metadata": {},
   "outputs": [],
   "source": []
  }
 ],
 "metadata": {
  "kernelspec": {
   "display_name": "Python 3",
   "language": "python",
   "name": "python3"
  },
  "language_info": {
   "codemirror_mode": {
    "name": "ipython",
    "version": 3
   },
   "file_extension": ".py",
   "mimetype": "text/x-python",
   "name": "python",
   "nbconvert_exporter": "python",
   "pygments_lexer": "ipython3",
   "version": "3.8.8"
  }
 },
 "nbformat": 4,
 "nbformat_minor": 5
}
