{
 "cells": [
  {
   "cell_type": "markdown",
   "id": "d2da2e3f",
   "metadata": {},
   "source": [
    "덩치\n",
    "\n",
    "https://www.acmicpc.net/problem/7568"
   ]
  },
  {
   "cell_type": "code",
   "execution_count": 1,
   "id": "b1bf433f",
   "metadata": {},
   "outputs": [
    {
     "name": "stdout",
     "output_type": "stream",
     "text": [
      "5\n"
     ]
    }
   ],
   "source": [
    "N = int(input())"
   ]
  },
  {
   "cell_type": "code",
   "execution_count": 10,
   "id": "773ec963",
   "metadata": {},
   "outputs": [
    {
     "name": "stdout",
     "output_type": "stream",
     "text": [
      "55 185\n",
      "58 183\n",
      "88 186\n",
      "60 175\n",
      "46 155\n",
      "2 2 1 2 5 "
     ]
    }
   ],
   "source": [
    "data = []\n",
    "for i in range(N):\n",
    "    x,y = map(int,input().split())\n",
    "    data.append((x,y)) # (x,y) 형태로 묶여서 list 로 들어간다.\n",
    "\n",
    "for j in data: # data 안에 있는 j\n",
    "    grade=1 # 순위는 1등 부터\n",
    "    for k in data: # 하나의 세트(j) 를 다른 세트(k) 와 비교\n",
    "        if j[0]<k[0] and j[1]<k[1] : grade+=1 # 몸무게도 작고 키도 작으면 덩치 작다\n",
    "    print(grade,end=\" \")"
   ]
  },
  {
   "cell_type": "code",
   "execution_count": null,
   "id": "12d34a4c",
   "metadata": {},
   "outputs": [],
   "source": []
  },
  {
   "cell_type": "code",
   "execution_count": 31,
   "id": "363bb070",
   "metadata": {},
   "outputs": [
    {
     "name": "stdout",
     "output_type": "stream",
     "text": [
      "5\n",
      "55 185\n",
      "58 183\n",
      "88 186\n",
      "60 175\n",
      "46 155\n",
      "1 2 "
     ]
    }
   ],
   "source": [
    "# 잘못된 코드\n",
    "# map(int,input().split()) 로 data=list((x,y)) 를 하면 에러 뜬다 :: int 라서 j[0] 인덱스 사용 못 함\n",
    "# input().split() 로 data=list((x,y)) 를 하면 잘못된 값이 뜬다\n",
    "\n",
    "N = int(input())\n",
    "\n",
    "for i in range(N):\n",
    "    x,y = input().split()\n",
    "    data = list((x,y)) # (x,y) 형태로 묶여서 list 로 들어간다.\n",
    "\n",
    "for j in data: # data 안에 있는 j\n",
    "    grade=1 # 순위는 1등 부터\n",
    "    for k in data: # 하나의 세트(j) 를 다른 세트(k) 와 비교\n",
    "        if j[0]<k[0] and j[1]<k[1] : grade+=1 # 몸무게도 작고 키도 작으면 덩치 작다\n",
    "    print(grade,end=\" \")"
   ]
  },
  {
   "cell_type": "code",
   "execution_count": null,
   "id": "f6c2fee7",
   "metadata": {},
   "outputs": [],
   "source": []
  }
 ],
 "metadata": {
  "kernelspec": {
   "display_name": "Python 3",
   "language": "python",
   "name": "python3"
  },
  "language_info": {
   "codemirror_mode": {
    "name": "ipython",
    "version": 3
   },
   "file_extension": ".py",
   "mimetype": "text/x-python",
   "name": "python",
   "nbconvert_exporter": "python",
   "pygments_lexer": "ipython3",
   "version": "3.8.8"
  }
 },
 "nbformat": 4,
 "nbformat_minor": 5
}
