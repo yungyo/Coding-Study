{
 "cells": [
  {
   "cell_type": "markdown",
   "id": "83f960a8",
   "metadata": {},
   "source": [
    "영화감독 숌\n",
    "\n",
    "https://www.acmicpc.net/problem/1436"
   ]
  },
  {
   "cell_type": "markdown",
   "id": "319cb7f1",
   "metadata": {},
   "source": [
    "666\n",
    "\n",
    "1666\n",
    "\n",
    "2666\n",
    "\n",
    "...\n",
    "\n",
    "666이 들어간 수\n",
    "\n",
    "문제를 이해하는 것이 중요하다!\n",
    "\n",
    "참고한 링크\n",
    "\n",
    "https://pearlluck.tistory.com/523"
   ]
  },
  {
   "cell_type": "code",
   "execution_count": 11,
   "id": "5eca6e81",
   "metadata": {},
   "outputs": [
    {
     "name": "stdout",
     "output_type": "stream",
     "text": [
      "500\n"
     ]
    }
   ],
   "source": [
    "N = int(input())"
   ]
  },
  {
   "cell_type": "code",
   "execution_count": 12,
   "id": "42430908",
   "metadata": {},
   "outputs": [
    {
     "name": "stdout",
     "output_type": "stream",
     "text": [
      "166699\n"
     ]
    }
   ],
   "source": [
    "num = 1\n",
    "count = 0\n",
    "while N!=0: # N 이 0이 아닐 때는 반복\n",
    "    if '666' in str(num):  #문자열 num 에 '666' 이 포함되면 count 올라간다\n",
    "        count += 1\n",
    "        \n",
    "    if count==N:   #올라간 count가 N번째와 동일하면 num 을 print 하고 끝낸다.\n",
    "        print(num)\n",
    "        break\n",
    "        \n",
    "    num=num+1 # 끝날 때까지 num 은 하나씩 올라간다"
   ]
  },
  {
   "cell_type": "code",
   "execution_count": null,
   "id": "22f4bc45",
   "metadata": {},
   "outputs": [],
   "source": []
  }
 ],
 "metadata": {
  "kernelspec": {
   "display_name": "Python 3",
   "language": "python",
   "name": "python3"
  },
  "language_info": {
   "codemirror_mode": {
    "name": "ipython",
    "version": 3
   },
   "file_extension": ".py",
   "mimetype": "text/x-python",
   "name": "python",
   "nbconvert_exporter": "python",
   "pygments_lexer": "ipython3",
   "version": "3.8.8"
  }
 },
 "nbformat": 4,
 "nbformat_minor": 5
}
