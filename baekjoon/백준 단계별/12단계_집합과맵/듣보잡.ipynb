{
 "cells": [
  {
   "cell_type": "markdown",
   "id": "e962237f",
   "metadata": {},
   "source": [
    "1764번\n",
    "\n",
    "https://www.acmicpc.net/problem/1764 "
   ]
  },
  {
   "cell_type": "code",
   "execution_count": 19,
   "id": "76050d89",
   "metadata": {},
   "outputs": [
    {
     "name": "stdout",
     "output_type": "stream",
     "text": [
      "3 4\n"
     ]
    }
   ],
   "source": [
    "N,M = map(int,input().split())"
   ]
  },
  {
   "cell_type": "code",
   "execution_count": 20,
   "id": "b8c9ee74",
   "metadata": {},
   "outputs": [
    {
     "name": "stdout",
     "output_type": "stream",
     "text": [
      "3 4\n"
     ]
    }
   ],
   "source": [
    "print(N,M)"
   ]
  },
  {
   "cell_type": "code",
   "execution_count": null,
   "id": "76ad5293",
   "metadata": {},
   "outputs": [],
   "source": []
  },
  {
   "cell_type": "code",
   "execution_count": 22,
   "id": "a71d1397",
   "metadata": {},
   "outputs": [
    {
     "name": "stdout",
     "output_type": "stream",
     "text": [
      "ohhenrie\n",
      "charlie\n",
      "baesangwook\n",
      "obama\n",
      "baesangwook\n",
      "ohhenrie\n",
      "clinton\n",
      "['ohhenrie', 'charlie', 'baesangwook', 'obama', 'baesangwook', 'ohhenrie', 'clinton']\n"
     ]
    }
   ],
   "source": [
    "# 방법 1\n",
    "\n",
    "dd_plus_bd = []\n",
    "for a in range(N+M):\n",
    "    lst = input()\n",
    "    dd_plus_bd.append(lst)\n",
    "print(dd_plus_bd)"
   ]
  },
  {
   "cell_type": "code",
   "execution_count": 34,
   "id": "f165937d",
   "metadata": {},
   "outputs": [
    {
     "name": "stdout",
     "output_type": "stream",
     "text": [
      "['obama', 'baesangwook', 'ohhenrie', 'clinton']\n"
     ]
    }
   ],
   "source": [
    "dd_lst = list(dd_plus_bd[0:N])\n",
    "bd_lst = list(dd_plus_bd[N:])\n",
    "print(bd_lst)"
   ]
  },
  {
   "cell_type": "code",
   "execution_count": 54,
   "id": "02dba51c",
   "metadata": {},
   "outputs": [
    {
     "name": "stdout",
     "output_type": "stream",
     "text": [
      "2\n",
      "baesangwook\n",
      "ohhenrie\n"
     ]
    }
   ],
   "source": [
    "ddbd_lst = []\n",
    "for i in dd_lst:\n",
    "    for j in bd_lst:\n",
    "        if i==j : ddbd_lst.append(j)\n",
    "ddbd_lst.sort()\n",
    "print(len(ddbd_lst))\n",
    "for nn in ddbd_lst:\n",
    "    print(nn)"
   ]
  },
  {
   "cell_type": "code",
   "execution_count": null,
   "id": "4a964ba0",
   "metadata": {},
   "outputs": [],
   "source": []
  },
  {
   "cell_type": "code",
   "execution_count": 26,
   "id": "61516871",
   "metadata": {},
   "outputs": [
    {
     "name": "stdout",
     "output_type": "stream",
     "text": [
      "ohhenrie\n",
      "charlie\n",
      "baesangwook\n",
      "obama\n",
      "baesangwook\n",
      "ohhenrie\n",
      "clinton\n",
      "['ohhenrie', 'charlie', 'baesangwook'] ['obama', 'baesangwook', 'ohhenrie', 'clinton']\n"
     ]
    }
   ],
   "source": [
    "# 방법 2\n",
    "\n",
    "dd = []\n",
    "bd = []\n",
    "cnt = 1\n",
    "for b in range(N+M):\n",
    "    name = input()\n",
    "    if cnt<=N : dd.append(name)\n",
    "    else : bd.append(name)\n",
    "    cnt += 1\n",
    "print(dd,bd)"
   ]
  },
  {
   "cell_type": "code",
   "execution_count": 55,
   "id": "21337b5a",
   "metadata": {},
   "outputs": [
    {
     "name": "stdout",
     "output_type": "stream",
     "text": [
      "2\n",
      "baesangwook\n",
      "ohhenrie\n"
     ]
    }
   ],
   "source": [
    "ddbd = []\n",
    "for f in dd:\n",
    "    for s in bd:\n",
    "        if f==s: ddbd.append(s)\n",
    "\n",
    "ddbd.sort()\n",
    "\n",
    "print(len(ddbd))\n",
    "for mm in ddbd_lst:\n",
    "    print(mm)"
   ]
  },
  {
   "cell_type": "code",
   "execution_count": null,
   "id": "7445f78b",
   "metadata": {},
   "outputs": [],
   "source": []
  },
  {
   "cell_type": "code",
   "execution_count": 46,
   "id": "ffda61e4",
   "metadata": {},
   "outputs": [
    {
     "name": "stdout",
     "output_type": "stream",
     "text": [
      "ohhenrie\n",
      "charlie\n",
      "baesangwook\n",
      "obama\n",
      "baesangwook\n",
      "ohhenrie\n",
      "clinton\n"
     ]
    }
   ],
   "source": [
    "# 방법 3 ---> 최종답안\n",
    "\n",
    "dd_set = set()\n",
    "for d in range(N):\n",
    "    dd_set.add(input())\n",
    "\n",
    "    \n",
    "bd_set = set()\n",
    "for b in range(M):\n",
    "    bd_set.add(input())"
   ]
  },
  {
   "cell_type": "code",
   "execution_count": 49,
   "id": "c186fcb3",
   "metadata": {},
   "outputs": [
    {
     "name": "stdout",
     "output_type": "stream",
     "text": [
      "2\n",
      "baesangwook\n",
      "ohhenrie\n"
     ]
    }
   ],
   "source": [
    "#result = sorted(list(dd_set & bd_set))\n",
    "\n",
    "result = sorted(dd_set & bd_set)\n",
    "\n",
    "print(len(result))\n",
    "for z in result:\n",
    "    print(z)"
   ]
  },
  {
   "cell_type": "markdown",
   "id": "a3a7cd86",
   "metadata": {},
   "source": [
    "-> set 과 list 의 특성을 활용하는 문제.\n",
    "\n",
    "\n",
    "- set & set 을 이용하면 교집합을 구할 수 있다.\n",
    "- set 형식의 듣도 와 보도 를 정해주고 add 를 이용하여 각각의 개수(n,m)에 맞게 넣어준다. (list 는 append)\n",
    "- 듣도&보도 로 교집합을 구해주고 sorted 로 정렬해준다.\n",
    "- 교집합의 길이와 그 속의 이름을 순차적으로 출력한다."
   ]
  },
  {
   "cell_type": "code",
   "execution_count": null,
   "id": "1acbef61",
   "metadata": {},
   "outputs": [],
   "source": []
  }
 ],
 "metadata": {
  "kernelspec": {
   "display_name": "Python 3 (ipykernel)",
   "language": "python",
   "name": "python3"
  },
  "language_info": {
   "codemirror_mode": {
    "name": "ipython",
    "version": 3
   },
   "file_extension": ".py",
   "mimetype": "text/x-python",
   "name": "python",
   "nbconvert_exporter": "python",
   "pygments_lexer": "ipython3",
   "version": "3.9.12"
  }
 },
 "nbformat": 4,
 "nbformat_minor": 5
}
