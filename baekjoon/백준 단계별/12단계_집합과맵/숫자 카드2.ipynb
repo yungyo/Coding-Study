{
 "cells": [
  {
   "cell_type": "markdown",
   "id": "0f61a2df",
   "metadata": {},
   "source": [
    "10816\n",
    "\n",
    "\n",
    "https://www.acmicpc.net/problem/10816"
   ]
  },
  {
   "cell_type": "code",
   "execution_count": 1,
   "id": "bbc6ced4",
   "metadata": {},
   "outputs": [
    {
     "name": "stdout",
     "output_type": "stream",
     "text": [
      "10\n"
     ]
    }
   ],
   "source": [
    "N = map(int,input())"
   ]
  },
  {
   "cell_type": "code",
   "execution_count": 5,
   "id": "e8fd9d2b",
   "metadata": {},
   "outputs": [
    {
     "name": "stdout",
     "output_type": "stream",
     "text": [
      "6 3 2 10 10 10 -10 -10 7 3\n"
     ]
    }
   ],
   "source": [
    "n = list(map(int,input().split()))"
   ]
  },
  {
   "cell_type": "code",
   "execution_count": 11,
   "id": "9988a6d0",
   "metadata": {},
   "outputs": [
    {
     "name": "stdout",
     "output_type": "stream",
     "text": [
      "{6: 1, 3: 2, 2: 1, 10: 3, -10: 2, 7: 1}\n"
     ]
    }
   ],
   "source": [
    "nums = {}\n",
    "#dictionary 사용\n",
    "\n",
    "for num in n:\n",
    "    if num in nums:\n",
    "        nums[num]+=1\n",
    "    else:\n",
    "        nums[num]=1\n",
    "print(nums)"
   ]
  },
  {
   "cell_type": "code",
   "execution_count": 3,
   "id": "3344603f",
   "metadata": {},
   "outputs": [
    {
     "name": "stdout",
     "output_type": "stream",
     "text": [
      "8\n"
     ]
    }
   ],
   "source": [
    "M = map(int,input())"
   ]
  },
  {
   "cell_type": "code",
   "execution_count": 6,
   "id": "e8696abd",
   "metadata": {},
   "outputs": [
    {
     "name": "stdout",
     "output_type": "stream",
     "text": [
      "10 9 -5 2 3 4 5 -10\n"
     ]
    }
   ],
   "source": [
    "m = list(map(int,input().split()))"
   ]
  },
  {
   "cell_type": "code",
   "execution_count": 12,
   "id": "b3f55369",
   "metadata": {},
   "outputs": [
    {
     "name": "stdout",
     "output_type": "stream",
     "text": [
      "3 0 0 1 2 0 0 2 "
     ]
    }
   ],
   "source": [
    "for num2 in m:\n",
    "    if num2 in nums:\n",
    "        print(nums[num2],end=' ')\n",
    "    else:\n",
    "        print(0,end=' ')"
   ]
  },
  {
   "cell_type": "code",
   "execution_count": 9,
   "id": "8f66d2f6",
   "metadata": {},
   "outputs": [
    {
     "name": "stdout",
     "output_type": "stream",
     "text": [
      "{6: 1, 3: 2, 2: 1, 10: 3, -10: 2, 7: 1}\n"
     ]
    }
   ],
   "source": [
    "print(nums)"
   ]
  },
  {
   "cell_type": "code",
   "execution_count": null,
   "id": "d8316d18",
   "metadata": {},
   "outputs": [],
   "source": []
  }
 ],
 "metadata": {
  "kernelspec": {
   "display_name": "Python 3 (ipykernel)",
   "language": "python",
   "name": "python3"
  },
  "language_info": {
   "codemirror_mode": {
    "name": "ipython",
    "version": 3
   },
   "file_extension": ".py",
   "mimetype": "text/x-python",
   "name": "python",
   "nbconvert_exporter": "python",
   "pygments_lexer": "ipython3",
   "version": "3.9.12"
  }
 },
 "nbformat": 4,
 "nbformat_minor": 5
}
