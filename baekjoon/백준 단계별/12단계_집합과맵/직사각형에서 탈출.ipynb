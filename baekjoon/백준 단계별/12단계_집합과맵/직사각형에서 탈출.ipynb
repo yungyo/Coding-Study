{
 "cells": [
  {
   "cell_type": "markdown",
   "id": "d7516a12",
   "metadata": {},
   "source": [
    "1085\n",
    "\n",
    "https://www.acmicpc.net/problem/1085"
   ]
  },
  {
   "cell_type": "code",
   "execution_count": 40,
   "id": "f075fbd1",
   "metadata": {},
   "outputs": [
    {
     "name": "stdout",
     "output_type": "stream",
     "text": [
      "161 181 762 375\n"
     ]
    }
   ],
   "source": [
    "x,y,w,h = map(int,input().split())"
   ]
  },
  {
   "cell_type": "code",
   "execution_count": 46,
   "id": "18e17527",
   "metadata": {},
   "outputs": [],
   "source": [
    "lstt = [x,y,(w-x),(h-y)]"
   ]
  },
  {
   "cell_type": "code",
   "execution_count": 47,
   "id": "a71cc402",
   "metadata": {},
   "outputs": [
    {
     "name": "stdout",
     "output_type": "stream",
     "text": [
      "[161, 181, 601, 194]\n"
     ]
    }
   ],
   "source": [
    "print(lstt)"
   ]
  },
  {
   "cell_type": "code",
   "execution_count": 44,
   "id": "3e030c36",
   "metadata": {},
   "outputs": [],
   "source": [
    "lst.sort()"
   ]
  },
  {
   "cell_type": "code",
   "execution_count": 45,
   "id": "4e683fb1",
   "metadata": {},
   "outputs": [
    {
     "name": "stdout",
     "output_type": "stream",
     "text": [
      "161\n"
     ]
    }
   ],
   "source": [
    "print(lst[0])"
   ]
  },
  {
   "cell_type": "code",
   "execution_count": null,
   "id": "162a880c",
   "metadata": {},
   "outputs": [],
   "source": []
  }
 ],
 "metadata": {
  "kernelspec": {
   "display_name": "Python 3 (ipykernel)",
   "language": "python",
   "name": "python3"
  },
  "language_info": {
   "codemirror_mode": {
    "name": "ipython",
    "version": 3
   },
   "file_extension": ".py",
   "mimetype": "text/x-python",
   "name": "python",
   "nbconvert_exporter": "python",
   "pygments_lexer": "ipython3",
   "version": "3.9.12"
  }
 },
 "nbformat": 4,
 "nbformat_minor": 5
}
