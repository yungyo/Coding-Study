{
 "cells": [
  {
   "cell_type": "markdown",
   "id": "7673278e",
   "metadata": {},
   "source": [
    "3009\n",
    "\n",
    "https://www.acmicpc.net/problem/3009"
   ]
  },
  {
   "cell_type": "code",
   "execution_count": 3,
   "id": "8f967c1f",
   "metadata": {},
   "outputs": [
    {
     "name": "stdout",
     "output_type": "stream",
     "text": [
      "5 5\n",
      "5 7\n",
      "7 5\n"
     ]
    }
   ],
   "source": [
    "x_lst = []\n",
    "y_lst = []\n",
    "\n",
    "for i in range(3):\n",
    "    x,y = map(int,input().split())\n",
    "    x_lst.append(x)\n",
    "    y_lst.append(y)"
   ]
  },
  {
   "cell_type": "code",
   "execution_count": 8,
   "id": "3363ad65",
   "metadata": {},
   "outputs": [],
   "source": [
    "for j in range(3):\n",
    "    if x_lst.count(x_lst[i])==1: x=x_lst[i]\n",
    "    if y_lst.count(y_lst[i])==1: y=y_lst[i]"
   ]
  },
  {
   "cell_type": "code",
   "execution_count": 9,
   "id": "52a29da8",
   "metadata": {},
   "outputs": [
    {
     "name": "stdout",
     "output_type": "stream",
     "text": [
      "7 5\n"
     ]
    }
   ],
   "source": [
    "print(x,y)"
   ]
  },
  {
   "cell_type": "code",
   "execution_count": null,
   "id": "3085caf2",
   "metadata": {},
   "outputs": [],
   "source": []
  }
 ],
 "metadata": {
  "kernelspec": {
   "display_name": "Python 3 (ipykernel)",
   "language": "python",
   "name": "python3"
  },
  "language_info": {
   "codemirror_mode": {
    "name": "ipython",
    "version": 3
   },
   "file_extension": ".py",
   "mimetype": "text/x-python",
   "name": "python",
   "nbconvert_exporter": "python",
   "pygments_lexer": "ipython3",
   "version": "3.9.12"
  }
 },
 "nbformat": 4,
 "nbformat_minor": 5
}
