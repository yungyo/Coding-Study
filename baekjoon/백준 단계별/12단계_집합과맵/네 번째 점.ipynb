{
 "cells": [
  {
   "cell_type": "markdown",
   "id": "7673278e",
   "metadata": {},
   "source": [
    "3009\n",
    "\n",
    "https://www.acmicpc.net/problem/3009"
   ]
  },
  {
   "cell_type": "code",
   "execution_count": null,
   "id": "02a6c823",
   "metadata": {},
   "outputs": [],
   "source": []
  }
 ],
 "metadata": {
  "kernelspec": {
   "display_name": "Python 3 (ipykernel)",
   "language": "python",
   "name": "python3"
  },
  "language_info": {
   "codemirror_mode": {
    "name": "ipython",
    "version": 3
   },
   "file_extension": ".py",
   "mimetype": "text/x-python",
   "name": "python",
   "nbconvert_exporter": "python",
   "pygments_lexer": "ipython3",
   "version": "3.9.12"
  }
 },
 "nbformat": 4,
 "nbformat_minor": 5
}
