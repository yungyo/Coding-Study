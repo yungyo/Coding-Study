{
 "cells": [
  {
   "cell_type": "markdown",
   "id": "7673278e",
   "metadata": {},
   "source": [
    "3009\n",
    "\n",
    "https://www.acmicpc.net/problem/3009"
   ]
  },
  {
   "cell_type": "code",
   "execution_count": 3,
   "id": "b2ce4817",
   "metadata": {},
   "outputs": [
    {
     "name": "stdout",
     "output_type": "stream",
     "text": [
      "5 5\n",
      "5 7\n",
      "7 5\n"
     ]
    }
   ],
   "source": [
    "x_lst = []\n",
    "y_lst = []\n",
    "\n",
    "for i in range(3):\n",
    "    x,y = map(int,input().split())\n",
    "    x_lst.append(x)\n",
    "    y_lst.append(y)"
   ]
  },
  {
   "cell_type": "code",
   "execution_count": 10,
   "id": "40db3ecf",
   "metadata": {},
   "outputs": [],
   "source": [
    "for j in range(3):\n",
    "    if x_lst.count(x_lst[j])==1: x=x_lst[j]\n",
    "    if y_lst.count(y_lst[j])==1: y=y_lst[j]"
   ]
  },
  {
   "cell_type": "code",
   "execution_count": 11,
   "id": "ca9c67f6",
   "metadata": {},
   "outputs": [
    {
     "name": "stdout",
     "output_type": "stream",
     "text": [
      "7 7\n"
     ]
    }
   ],
   "source": [
    "print(x,y)"
   ]
  },
  {
   "cell_type": "code",
   "execution_count": null,
   "id": "1c99fd90",
   "metadata": {},
   "outputs": [],
   "source": []
  }
 ],
 "metadata": {
  "kernelspec": {
   "display_name": "Python 3 (ipykernel)",
   "language": "python",
   "name": "python3"
  },
  "language_info": {
   "codemirror_mode": {
    "name": "ipython",
    "version": 3
   },
   "file_extension": ".py",
   "mimetype": "text/x-python",
   "name": "python",
   "nbconvert_exporter": "python",
   "pygments_lexer": "ipython3",
   "version": "3.9.12"
  }
 },
 "nbformat": 4,
 "nbformat_minor": 5
}
