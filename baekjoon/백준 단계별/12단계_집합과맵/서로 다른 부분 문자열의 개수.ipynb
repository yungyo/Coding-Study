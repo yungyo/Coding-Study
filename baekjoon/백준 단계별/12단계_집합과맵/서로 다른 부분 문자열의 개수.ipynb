{
 "cells": [
  {
   "cell_type": "markdown",
   "id": "02b8dc52",
   "metadata": {},
   "source": [
    "11478\n",
    "\n",
    "https://www.acmicpc.net/problem/11478"
   ]
  },
  {
   "cell_type": "code",
   "execution_count": 1,
   "id": "116f0bbc",
   "metadata": {},
   "outputs": [],
   "source": [
    "# 집합 set 은 중복을 허용하지 않는다"
   ]
  },
  {
   "cell_type": "code",
   "execution_count": 2,
   "id": "3e6d633d",
   "metadata": {},
   "outputs": [
    {
     "name": "stdout",
     "output_type": "stream",
     "text": [
      "ababc\n"
     ]
    }
   ],
   "source": [
    "S = input()"
   ]
  },
  {
   "cell_type": "code",
   "execution_count": 10,
   "id": "cbe0f009",
   "metadata": {
    "scrolled": true
   },
   "outputs": [
    {
     "name": "stdout",
     "output_type": "stream",
     "text": [
      "{'ababc', 'abab', 'c', 'b', 'bc', 'babc', 'bab', 'ba', 'abc', 'a', 'aba', 'ab'}\n",
      "12\n"
     ]
    }
   ],
   "source": [
    "s = set()\n",
    "\n",
    "for i in range(len(S)):\n",
    "    for j in range(i,len(S)):\n",
    "        ans=S[i:j+1]\n",
    "        s.add(ans)\n",
    "print(s)\n",
    "print(len(s))"
   ]
  },
  {
   "cell_type": "code",
   "execution_count": 11,
   "id": "fc08c1e8",
   "metadata": {},
   "outputs": [
    {
     "name": "stdout",
     "output_type": "stream",
     "text": [
      "{'ababc', 'abab', 'c', 'b', 'bc', 'babc', 'bab', 'ba', 'abc', 'a', 'aba', 'ab'}\n",
      "12\n"
     ]
    }
   ],
   "source": [
    "s = set()\n",
    "\n",
    "for i in range(len(S)):\n",
    "    for j in range(i,len(S)):\n",
    "        s.add(S[i:j+1])\n",
    "print(s)\n",
    "print(len(s))"
   ]
  },
  {
   "cell_type": "code",
   "execution_count": 9,
   "id": "02ad9415",
   "metadata": {},
   "outputs": [
    {
     "name": "stdout",
     "output_type": "stream",
     "text": [
      "['a', 'ab', 'aba', 'abab', 'ababc', 'b', 'ba', 'bab', 'babc', 'a', 'ab', 'abc', 'b', 'bc', 'c']\n"
     ]
    }
   ],
   "source": [
    "# list 는 중복을 허용한다.\n",
    "n = []\n",
    "for a in range(len(S)):\n",
    "    for b in range(a+1,len(S)):\n",
    "        new=S[a:b]\n",
    "        n.append(new)\n",
    "print(n)"
   ]
  },
  {
   "cell_type": "code",
   "execution_count": null,
   "id": "67edc7da",
   "metadata": {},
   "outputs": [],
   "source": []
  }
 ],
 "metadata": {
  "kernelspec": {
   "display_name": "Python 3 (ipykernel)",
   "language": "python",
   "name": "python3"
  },
  "language_info": {
   "codemirror_mode": {
    "name": "ipython",
    "version": 3
   },
   "file_extension": ".py",
   "mimetype": "text/x-python",
   "name": "python",
   "nbconvert_exporter": "python",
   "pygments_lexer": "ipython3",
   "version": "3.9.12"
  }
 },
 "nbformat": 4,
 "nbformat_minor": 5
}
