{
 "cells": [
  {
   "cell_type": "markdown",
   "id": "ca78fd24",
   "metadata": {},
   "source": [
    "11478\n",
    "\n",
    "https://www.acmicpc.net/problem/11478"
   ]
  },
  {
   "cell_type": "code",
   "execution_count": 1,
   "id": "05f80b77",
   "metadata": {},
   "outputs": [],
   "source": [
    "# 집합 set 은 중복을 허용하지 않는다"
   ]
  },
  {
   "cell_type": "code",
   "execution_count": 2,
   "id": "3c861544",
   "metadata": {},
   "outputs": [
    {
     "name": "stdout",
     "output_type": "stream",
     "text": [
      "ababc\n"
     ]
    }
   ],
   "source": [
    "S = input()"
   ]
  },
  {
   "cell_type": "code",
   "execution_count": 10,
   "id": "4b17ccd5",
   "metadata": {
    "scrolled": true
   },
   "outputs": [
    {
     "name": "stdout",
     "output_type": "stream",
     "text": [
      "{'ababc', 'abab', 'c', 'b', 'bc', 'babc', 'bab', 'ba', 'abc', 'a', 'aba', 'ab'}\n",
      "12\n"
     ]
    }
   ],
   "source": [
    "s = set()\n",
    "\n",
    "for i in range(len(S)):\n",
    "    for j in range(i,len(S)):\n",
    "        ans=S[i:j+1]\n",
    "        s.add(ans)\n",
    "print(s)\n",
    "print(len(s))"
   ]
  },
  {
   "cell_type": "code",
   "execution_count": 11,
   "id": "85ad25e9",
   "metadata": {},
   "outputs": [
    {
     "name": "stdout",
     "output_type": "stream",
     "text": [
      "{'ababc', 'abab', 'c', 'b', 'bc', 'babc', 'bab', 'ba', 'abc', 'a', 'aba', 'ab'}\n",
      "12\n"
     ]
    }
   ],
   "source": [
    "s = set()\n",
    "\n",
    "for i in range(len(S)):\n",
    "    for j in range(i,len(S)):\n",
    "        s.add(S[i:j+1])\n",
    "print(s)\n",
    "print(len(s))"
   ]
  },
  {
   "cell_type": "code",
   "execution_count": 13,
   "id": "30dbea50",
   "metadata": {},
   "outputs": [
    {
     "name": "stdout",
     "output_type": "stream",
     "text": [
      "['a', 'ab', 'aba', 'abab', 'ababc', 'b', 'ba', 'bab', 'babc', 'a', 'ab', 'abc', 'b', 'bc', 'c']\n"
     ]
    }
   ],
   "source": [
    "# list 는 중복을 허용한다.\n",
    "n = []\n",
    "for a in range(len(S)):\n",
    "    for b in range(a,len(S)):\n",
    "        new=S[a:b+1]\n",
    "        n.append(new)\n",
    "print(n)"
   ]
  },
  {
   "cell_type": "code",
   "execution_count": null,
   "id": "d6a6f47c",
   "metadata": {},
   "outputs": [],
   "source": []
  }
 ],
 "metadata": {
  "kernelspec": {
   "display_name": "Python 3 (ipykernel)",
   "language": "python",
   "name": "python3"
  },
  "language_info": {
   "codemirror_mode": {
    "name": "ipython",
    "version": 3
   },
   "file_extension": ".py",
   "mimetype": "text/x-python",
   "name": "python",
   "nbconvert_exporter": "python",
   "pygments_lexer": "ipython3",
   "version": "3.9.12"
  }
 },
 "nbformat": 4,
 "nbformat_minor": 5
}
