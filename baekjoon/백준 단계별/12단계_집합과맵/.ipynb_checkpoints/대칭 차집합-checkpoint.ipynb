{
 "cells": [
  {
   "cell_type": "markdown",
   "id": "aede2224",
   "metadata": {},
   "source": [
    "1269\n",
    "\n",
    "https://www.acmicpc.net/problem/1269"
   ]
  },
  {
   "cell_type": "code",
   "execution_count": 25,
   "id": "9496501f",
   "metadata": {},
   "outputs": [
    {
     "name": "stdout",
     "output_type": "stream",
     "text": [
      "3 5\n"
     ]
    }
   ],
   "source": [
    "A,B = map(int,input().split())"
   ]
  },
  {
   "cell_type": "code",
   "execution_count": 26,
   "id": "b21ad771",
   "metadata": {},
   "outputs": [
    {
     "name": "stdout",
     "output_type": "stream",
     "text": [
      "1 2 4\n",
      "2 3 4 5 6\n"
     ]
    }
   ],
   "source": [
    "# set 을 이용하면 교집합,합집합, 차집합을 구할 수 있다.\n",
    "\n",
    "a = set(map(int,input().split()))\n",
    "b = set(map(int,input().split()))"
   ]
  },
  {
   "cell_type": "code",
   "execution_count": 27,
   "id": "400a6e39",
   "metadata": {},
   "outputs": [
    {
     "name": "stdout",
     "output_type": "stream",
     "text": [
      "4\n"
     ]
    }
   ],
   "source": [
    "print(len(a-b)+len(b-a))"
   ]
  },
  {
   "cell_type": "code",
   "execution_count": 28,
   "id": "d5d56d72",
   "metadata": {},
   "outputs": [
    {
     "name": "stdout",
     "output_type": "stream",
     "text": [
      "4\n"
     ]
    }
   ],
   "source": [
    "print(len(a^b))"
   ]
  },
  {
   "cell_type": "code",
   "execution_count": null,
   "id": "2b6be251",
   "metadata": {},
   "outputs": [],
   "source": []
  }
 ],
 "metadata": {
  "kernelspec": {
   "display_name": "Python 3 (ipykernel)",
   "language": "python",
   "name": "python3"
  },
  "language_info": {
   "codemirror_mode": {
    "name": "ipython",
    "version": 3
   },
   "file_extension": ".py",
   "mimetype": "text/x-python",
   "name": "python",
   "nbconvert_exporter": "python",
   "pygments_lexer": "ipython3",
   "version": "3.9.12"
  }
 },
 "nbformat": 4,
 "nbformat_minor": 5
}
