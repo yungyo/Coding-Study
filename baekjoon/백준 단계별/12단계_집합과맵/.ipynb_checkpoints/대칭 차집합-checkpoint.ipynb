{
 "cells": [
  {
   "cell_type": "markdown",
   "id": "0622a954",
   "metadata": {},
   "source": [
    "1269\n",
    "\n",
    "https://www.acmicpc.net/problem/1269"
   ]
  },
  {
   "cell_type": "code",
   "execution_count": 25,
   "id": "742a698f",
   "metadata": {},
   "outputs": [
    {
     "name": "stdout",
     "output_type": "stream",
     "text": [
      "3 5\n"
     ]
    }
   ],
   "source": [
    "A,B = map(int,input().split())"
   ]
  },
  {
   "cell_type": "code",
   "execution_count": 26,
   "id": "98d0aec0",
   "metadata": {},
   "outputs": [
    {
     "name": "stdout",
     "output_type": "stream",
     "text": [
      "1 2 4\n",
      "2 3 4 5 6\n"
     ]
    }
   ],
   "source": [
    "# set 을 이용하면 교집합,합집합, 차집합을 구할 수 있다.\n",
    "\n",
    "a = set(map(int,input().split()))\n",
    "b = set(map(int,input().split()))"
   ]
  },
  {
   "cell_type": "code",
   "execution_count": 27,
   "id": "e1a73f27",
   "metadata": {},
   "outputs": [
    {
     "name": "stdout",
     "output_type": "stream",
     "text": [
      "4\n"
     ]
    }
   ],
   "source": [
    "print(len(a-b)+len(b-a))"
   ]
  },
  {
   "cell_type": "code",
   "execution_count": 28,
   "id": "7b4a3b8b",
   "metadata": {},
   "outputs": [
    {
     "name": "stdout",
     "output_type": "stream",
     "text": [
      "4\n"
     ]
    }
   ],
   "source": [
    "print(len(a^b))\n",
    "# set에서 a^b 는 대칭 차집합을 뜻한다."
   ]
  },
  {
   "cell_type": "code",
   "execution_count": null,
   "id": "b00d6d45",
   "metadata": {},
   "outputs": [],
   "source": []
  }
 ],
 "metadata": {
  "kernelspec": {
   "display_name": "Python 3 (ipykernel)",
   "language": "python",
   "name": "python3"
  },
  "language_info": {
   "codemirror_mode": {
    "name": "ipython",
    "version": 3
   },
   "file_extension": ".py",
   "mimetype": "text/x-python",
   "name": "python",
   "nbconvert_exporter": "python",
   "pygments_lexer": "ipython3",
   "version": "3.9.12"
  }
 },
 "nbformat": 4,
 "nbformat_minor": 5
}
