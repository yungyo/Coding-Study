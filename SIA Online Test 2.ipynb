{
 "cells": [
  {
   "cell_type": "markdown",
   "id": "0c2f7b15",
   "metadata": {},
   "source": [
    "SIA Online Test\n",
    "\n",
    "220507 다시 풀어보기"
   ]
  },
  {
   "cell_type": "code",
   "execution_count": 4,
   "id": "d178357d",
   "metadata": {},
   "outputs": [
    {
     "name": "stdout",
     "output_type": "stream",
     "text": [
      "-5 -4 -2 12 -40 4 2 18 11 5\n"
     ]
    }
   ],
   "source": [
    "ts = [int(i) for i in input().split()]"
   ]
  },
  {
   "cell_type": "code",
   "execution_count": 8,
   "id": "163306c3",
   "metadata": {},
   "outputs": [
    {
     "name": "stdout",
     "output_type": "stream",
     "text": [
      "[12, 4, 2, 18, 11, 5] [-5, -4, -2, -40]\n",
      "2\n"
     ]
    }
   ],
   "source": [
    "if len(ts) == 0 : print(0)\n",
    "if len(ts) == 1 : print(ts[0])\n",
    "\n",
    "up = []\n",
    "down = []\n",
    "for i in range(len(ts)):\n",
    "    if ts[i]>0 : up.append(ts[i])\n",
    "    elif ts[i]<0 : down.append(ts[i])\n",
    "    i += 1\n",
    "print(up,down)\n",
    "\n",
    "if len(up)>0 and len(down)>0 :\n",
    "    if abs(max(down))>abs(min(up)) : print(min(up))\n",
    "    elif abs(max(down))<abs(min(up)) : print(max(down))\n",
    "    elif abs(max(down))==abs(min(up)) : print(min(up))\n",
    "elif len(up)==0 : print(max(down))\n",
    "elif len(down)==0 : print(min(up))"
   ]
  },
  {
   "cell_type": "code",
   "execution_count": null,
   "id": "eb1e77da",
   "metadata": {},
   "outputs": [],
   "source": []
  }
 ],
 "metadata": {
  "kernelspec": {
   "display_name": "Python 3",
   "language": "python",
   "name": "python3"
  },
  "language_info": {
   "codemirror_mode": {
    "name": "ipython",
    "version": 3
   },
   "file_extension": ".py",
   "mimetype": "text/x-python",
   "name": "python",
   "nbconvert_exporter": "python",
   "pygments_lexer": "ipython3",
   "version": "3.8.8"
  }
 },
 "nbformat": 4,
 "nbformat_minor": 5
}
